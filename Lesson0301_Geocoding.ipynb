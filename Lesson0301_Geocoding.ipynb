{
 "nbformat": 4,
 "nbformat_minor": 0,
 "metadata": {
  "colab": {
   "provenance": []
  },
  "kernelspec": {
   "name": "python3",
   "display_name": "Python 3"
  },
  "language_info": {
   "name": "python"
  }
 },
 "cells": [
  {
   "cell_type": "markdown",
   "source": [
    "# Lesson3-01. Geocoding"
   ],
   "metadata": {
    "id": "MeYnZpSL5Sxv"
   }
  },
  {
   "cell_type": "markdown",
   "source": [
    "## Overview\n",
    "\n",
    "지오코딩은 주소를 좌표로 변환하거나 그 반대로 변환하는 것이고, 이는 정말 일반적인 GIS 작업이다. 파이썬에는 지오코딩을 정말 쉽게 해주는 라이브러리들이 있습니다. 바로 \"geopy\"인데, 이는 타사 지오코더와 다른 데이터 소스를 사용하여 전 세계의 주소, 도시, 국가 및 랜드마크의 좌표를 쉽게 찾을 수 있게 해준다.\n"
   ],
   "metadata": {
    "id": "Di6LjOA25f5E"
   }
  },
  {
   "cell_type": "markdown",
   "source": [
    "## Geocoding in Geopandas\n",
    "\n",
    "Geopandas에서 지오코딩을 수행할 수 있는데, 주소(문자열) 목록을 지오코딩하고 지오메트리 열에 결과인 점 객체를 포함하는 geodataframe을 반환할 수 있는 `geocode()`라는 함수가 있다."
   ],
   "metadata": {
    "id": "oNv249uS6DQ1"
   }
  },
  {
   "cell_type": "code",
   "source": [
    "import pandas as pd\n",
    "import geopandas as gpd\n",
    "from shapely.geometry import Point\n",
    "\n",
    "# .txt 파일 경로\n",
    "fp = r\"Dataset/Lesson3/address.txt\"\n",
    "\n",
    "# 데이터 읽기\n",
    "data = pd.read_csv(fp, sep=\";\")\n",
    "data.head()"
   ],
   "metadata": {
    "id": "IOpoUOa75fW8"
   },
   "execution_count": 6,
   "outputs": [
    {
     "data": {
      "text/plain": "     id                                   address\n0  1000  Itämerenkatu 14, 00101 Helsinki, Finland\n1  1001     Kampinkuja 1, 00100 Helsinki, Finland",
      "text/html": "<div>\n<style scoped>\n    .dataframe tbody tr th:only-of-type {\n        vertical-align: middle;\n    }\n\n    .dataframe tbody tr th {\n        vertical-align: top;\n    }\n\n    .dataframe thead th {\n        text-align: right;\n    }\n</style>\n<table border=\"1\" class=\"dataframe\">\n  <thead>\n    <tr style=\"text-align: right;\">\n      <th></th>\n      <th>id</th>\n      <th>address</th>\n    </tr>\n  </thead>\n  <tbody>\n    <tr>\n      <th>0</th>\n      <td>1000</td>\n      <td>Itämerenkatu 14, 00101 Helsinki, Finland</td>\n    </tr>\n    <tr>\n      <th>1</th>\n      <td>1001</td>\n      <td>Kampinkuja 1, 00100 Helsinki, Finland</td>\n    </tr>\n  </tbody>\n</table>\n</div>"
     },
     "execution_count": 6,
     "metadata": {},
     "output_type": "execute_result"
    }
   ]
  },
  {
   "cell_type": "markdown",
   "source": [
    "## Table Join\n",
    "\n",
    "테이블 조인은 GIS 분석을 할 때 정말 자주 해야 하는 것이다. Pandas/Geopandas에서는 .merge() - 함수를 사용하여 공통 키 속성을 기반으로 서로 다른 테이블의 데이터를 쉽게 결합할 수 있다.\n",
    "이번에는 공통 열 주소를 기반으로 데이터 및 지오데이터 프레임을 함께 결합해 보겠다. 파라미터 \"on\"은 테이블의 공통 키를 결정하는 데 사용된다. 첫 번째 테이블의 키 이름이 다른 테이블과 다른 경우 left_on 및 right_on 매개 변수를 사용하여 각 테이블에 대해 키 이름을 개별적으로 지정할 수도 있다.\n",
    "먼저 \"geo\"라는 Geometry를 가진 데이터를 만든 후 앞의 파일인 \"data\"와 조인하도록 하겠다."
   ],
   "metadata": {
    "collapsed": false
   }
  },
  {
   "cell_type": "code",
   "execution_count": 23,
   "outputs": [
    {
     "data": {
      "text/plain": "                                    address                       geometry\n0  Itämerenkatu 14, 00101 Helsinki, Finland  POINT (24.9146767 60.1628658)\n1     Kampinkuja 1, 00100 Helsinki, Finland  POINT (24.9301701 60.1683731)",
      "text/html": "<div>\n<style scoped>\n    .dataframe tbody tr th:only-of-type {\n        vertical-align: middle;\n    }\n\n    .dataframe tbody tr th {\n        vertical-align: top;\n    }\n\n    .dataframe thead th {\n        text-align: right;\n    }\n</style>\n<table border=\"1\" class=\"dataframe\">\n  <thead>\n    <tr style=\"text-align: right;\">\n      <th></th>\n      <th>address</th>\n      <th>geometry</th>\n    </tr>\n  </thead>\n  <tbody>\n    <tr>\n      <th>0</th>\n      <td>Itämerenkatu 14, 00101 Helsinki, Finland</td>\n      <td>POINT (24.9146767 60.1628658)</td>\n    </tr>\n    <tr>\n      <th>1</th>\n      <td>Kampinkuja 1, 00100 Helsinki, Finland</td>\n      <td>POINT (24.9301701 60.1683731)</td>\n    </tr>\n  </tbody>\n</table>\n</div>"
     },
     "execution_count": 23,
     "metadata": {},
     "output_type": "execute_result"
    }
   ],
   "source": [
    "geo = pd.DataFrame({\"address\": [\"Itämerenkatu 14, 00101 Helsinki, Finland\", \"Kampinkuja 1, 00100 Helsinki, Finland\"], \"geometry\": [\"POINT (24.9146767 60.1628658)\", \"POINT (24.9301701 60.1683731)\"]})\n",
    "geo"
   ],
   "metadata": {
    "collapsed": false
   }
  },
  {
   "cell_type": "code",
   "execution_count": 24,
   "outputs": [
    {
     "data": {
      "text/plain": "                                    address                       geometry  \\\n0  Itämerenkatu 14, 00101 Helsinki, Finland  POINT (24.9146767 60.1628658)   \n1     Kampinkuja 1, 00100 Helsinki, Finland  POINT (24.9301701 60.1683731)   \n\n     id  \n0  1000  \n1  1001  ",
      "text/html": "<div>\n<style scoped>\n    .dataframe tbody tr th:only-of-type {\n        vertical-align: middle;\n    }\n\n    .dataframe tbody tr th {\n        vertical-align: top;\n    }\n\n    .dataframe thead th {\n        text-align: right;\n    }\n</style>\n<table border=\"1\" class=\"dataframe\">\n  <thead>\n    <tr style=\"text-align: right;\">\n      <th></th>\n      <th>address</th>\n      <th>geometry</th>\n      <th>id</th>\n    </tr>\n  </thead>\n  <tbody>\n    <tr>\n      <th>0</th>\n      <td>Itämerenkatu 14, 00101 Helsinki, Finland</td>\n      <td>POINT (24.9146767 60.1628658)</td>\n      <td>1000</td>\n    </tr>\n    <tr>\n      <th>1</th>\n      <td>Kampinkuja 1, 00100 Helsinki, Finland</td>\n      <td>POINT (24.9301701 60.1683731)</td>\n      <td>1001</td>\n    </tr>\n  </tbody>\n</table>\n</div>"
     },
     "execution_count": 24,
     "metadata": {},
     "output_type": "execute_result"
    }
   ],
   "source": [
    "join = geo.merge(data, on=\"address\")\n",
    "join.head()"
   ],
   "metadata": {
    "collapsed": false
   }
  },
  {
   "cell_type": "markdown",
   "source": [
    "그 결과 하나의 테이블로 열이 합쳐져 데이터화 된 것을 볼 수 있다.\n",
    "이 데이터를 Shapefile로 저장할 수도 있다."
   ],
   "metadata": {
    "collapsed": false
   }
  },
  {
   "cell_type": "code",
   "execution_count": 25,
   "outputs": [],
   "source": [
    "join = gpd.GeoDataFrame(join[[\"address\", \"id\"]], crs=\"EPSG:4326\", geometry=[Point(24.91476767, 60.1628658), Point(24.9301701, 60.1683731)])\n",
    "\n",
    "# 결과 경로 설정하기\n",
    "outfp = r\"Dataset/Lesson3/addresses.shp\"\n",
    "\n",
    "# Shapefile로 저장하기\n",
    "join.to_file(outfp)"
   ],
   "metadata": {
    "collapsed": false
   }
  }
 ]
}

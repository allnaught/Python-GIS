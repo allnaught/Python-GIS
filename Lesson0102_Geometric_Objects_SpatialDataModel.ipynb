{
  "nbformat": 4,
  "nbformat_minor": 0,
  "metadata": {
    "colab": {
      "provenance": [],
      "toc_visible": true
    },
    "kernelspec": {
      "name": "python3",
      "display_name": "Python 3"
    },
    "language_info": {
      "name": "python"
    }
  },
  "cells": [
    {
      "cell_type": "markdown",
      "source": [
        "# Lesson1-02. Geometric Objects-Spatial Data Model"
      ],
      "metadata": {
        "id": "S_V14DKb-AX-"
      }
    },
    {
      "cell_type": "markdown",
      "source": [
        "## 기하학적인 객체 :: 공간 데이터 모델\n",
        "가장 기본적인 기하학적 개체는 벡터 형식의 공간 데이터를 다룰 때 기본 성분인 점, 선 및 폴리곤이다. Python은 **Shapely**라는 모듈로 기하학적 객체를 만들고 사용하며 그 기능은 아래와 같다.\n",
        "- 지오메트리 집합에서 점, 선, 폴리곤 작성\n",
        "- 입력 지오메트리의 면적/길이/경계 등을 계산\n",
        "- 결합(Union), 차이(Difference), 거리(Distance) 등의 입력 지오메트리를 기반으로 기하학적 연산\n",
        "- 교차(Intersects), 터치(Touches), 교차(Crosses), 내부(Within) 등의 지오메트리 간에 공간 쿼리 생성"
      ],
      "metadata": {
        "id": "3XjSqv75-fJg"
      }
    },
    {
      "cell_type": "markdown",
      "source": [
        "## 좌표 튜플\n",
        "기하학적 객체는 좌표 튜플로 구성된다.\n",
        "- **점**(Point) - 공간의 단일 점을 나타내며 점은 2차원(x, y) 또는 3차원(x, y, z)일 수 있다.\n",
        "- **선**(Line String) - 선을 형성하기 위해 결합된 일련의 점을 나타내기 때문에 선은 적어도 두 개의 좌표 튜플 리스트로 구성된다.\n",
        "- **폴리곤**(Polygon) - 바깥쪽 링을 형성하는 최소 세 개의 좌표 튜플 리스트와 구멍 다각형 리스트로 구성된 채워진 영역을 나타낸다.\n",
        "\n",
        "다량의 데이터로 집합 되어 구성되기도한다.\n",
        "- MultiPoint - 점 집합을 나타내며 좌표 튜플 리스트로 구성된다.\n",
        "- MultiLineString - 선의 집합을 나타내며 줄과 같은 시퀀스 목록으로 구성된다.\n",
        "- MultiPolygon - 외부 링과 구멍 목록 튜플로 구성된 폴리곤의 집합을 나타낸다."
      ],
      "metadata": {
        "id": "gIcxOKQk-VzF"
      }
    },
    {
      "cell_type": "markdown",
      "source": [
        "## 점(Point)\n",
        "x 및 y 좌표를 Point()에 전달해 점을 생성\n"
      ],
      "metadata": {
        "id": "L8HrayeT-jm6"
      }
    },
    {
      "cell_type": "code",
      "source": [
        "# 필요한 라이브러리 및 모듈 불러오기\n",
        "from shapely.geometry import Point, LineString, Polygon\n",
        "\n",
        "# 좌표를 사용하여 점(기하학적 객체) 작성\n",
        "point1 = Point(2.2, 4.2)\n",
        "print(point1)"
      ],
      "metadata": {
        "colab": {
          "base_uri": "https://localhost:8080/"
        },
        "id": "g5D7tDEk-mqx",
        "outputId": "d7e0a9a8-8c30-4095-bab9-f50b0cb5fdd6"
      },
      "execution_count": 5,
      "outputs": [
        {
          "output_type": "stream",
          "name": "stdout",
          "text": [
            "POINT (2.2 4.2)\n"
          ]
        }
      ]
    },
    {
      "cell_type": "code",
      "source": [
        "point2 = Point(7.2, -25.1)\n",
        "print(point2)"
      ],
      "metadata": {
        "colab": {
          "base_uri": "https://localhost:8080/"
        },
        "id": "CVONOR7r-p01",
        "outputId": "dde426f4-1e97-4b1b-8e8c-e106fa7dedea"
      },
      "execution_count": 8,
      "outputs": [
        {
          "output_type": "stream",
          "name": "stdout",
          "text": [
            "POINT (7.2 -25.1)\n"
          ]
        }
      ]
    },
    {
      "cell_type": "code",
      "source": [
        "point3 = Point(9.26, -2.456)\n",
        "print(point3)"
      ],
      "metadata": {
        "colab": {
          "base_uri": "https://localhost:8080/"
        },
        "id": "bdHrEd5W-yLx",
        "outputId": "014e6ffb-ad70-4664-9b35-951edd511ea2"
      },
      "execution_count": 6,
      "outputs": [
        {
          "output_type": "stream",
          "name": "stdout",
          "text": [
            "POINT (9.26 -2.456)\n"
          ]
        }
      ]
    },
    {
      "cell_type": "code",
      "source": [
        "point3D = Point(9.26, -2.456, 0.57)\n",
        "print(point3D)"
      ],
      "metadata": {
        "colab": {
          "base_uri": "https://localhost:8080/"
        },
        "id": "lEMxKfAb-0zt",
        "outputId": "faaf1c90-15a1-4611-99e0-dd6965febbce"
      },
      "execution_count": 7,
      "outputs": [
        {
          "output_type": "stream",
          "name": "stdout",
          "text": [
            "POINT Z (9.26 -2.456 0.57)\n"
          ]
        }
      ]
    },
    {
      "cell_type": "code",
      "source": [
        "# 점의 type 확인\n",
        "point_type = type(point1)\n",
        "print(type(point1))"
      ],
      "metadata": {
        "colab": {
          "base_uri": "https://localhost:8080/"
        },
        "id": "9VKZrUDY-5QW",
        "outputId": "9e4cf363-209b-4136-a1c5-52a130daf57e"
      },
      "execution_count": 9,
      "outputs": [
        {
          "output_type": "stream",
          "name": "stdout",
          "text": [
            "<class 'shapely.geometry.point.Point'>\n"
          ]
        }
      ]
    },
    {
      "cell_type": "markdown",
      "source": [
        "점의 유형은 GIS의 표준 라이브러리중 하나인 GEOS로, C++ 라이브러리를 기반으로 하는 특정 형식으로 표현되는 **shapely's Point**임을 알 수 있다. 또한 좌표 앞에 있는 \"Z\"를 이용해 3D Point임을 인식하는 것을 알 수 있다.\n"
      ],
      "metadata": {
        "id": "Ge6pkV39-4s6"
      }
    },
    {
      "cell_type": "markdown",
      "source": [
        "### 점 속성과 함수\n",
        "점 객체에는 액세스 가능한 기본 제공 속성 및 유용한 기능이 있는데, 가장 유용한 것 중 하나는 점의 좌표를 추출하고 점 사이의 유클리드 거리를 계산하는 능력이다.\n"
      ],
      "metadata": {
        "id": "y-pBS8KZ-9PC"
      }
    },
    {
      "cell_type": "code",
      "source": [
        "# 점 좌표 추출하기\n",
        "point_coords = point1.coords\n",
        "\n",
        "# 추출된 좌표 type 확인\n",
        "print(type(point_coords))"
      ],
      "metadata": {
        "colab": {
          "base_uri": "https://localhost:8080/"
        },
        "id": "eZ230Kr6_BTc",
        "outputId": "3306eb89-816b-40f6-d60b-09c571e60b2a"
      },
      "execution_count": 10,
      "outputs": [
        {
          "output_type": "stream",
          "name": "stdout",
          "text": [
            "<class 'shapely.coords.CoordinateSequence'>\n"
          ]
        }
      ]
    },
    {
      "cell_type": "code",
      "source": [
        "# 추출된 좌표에서 x, y 가져오기\n",
        "xy = point_coords.xy\n",
        "print(xy)"
      ],
      "metadata": {
        "colab": {
          "base_uri": "https://localhost:8080/"
        },
        "id": "tIOJJMx3_C3M",
        "outputId": "4f28073e-797d-4b38-f474-327e2783b223"
      },
      "execution_count": 11,
      "outputs": [
        {
          "output_type": "stream",
          "name": "stdout",
          "text": [
            "(array('d', [2.2]), array('d', [4.2]))\n"
          ]
        }
      ]
    },
    {
      "cell_type": "code",
      "source": [
        "# point1의 x좌표만 추출\n",
        "x = point1.x\n",
        "print(x)"
      ],
      "metadata": {
        "colab": {
          "base_uri": "https://localhost:8080/"
        },
        "id": "rVA0PwpZ_Ebt",
        "outputId": "634367ef-0ba4-4f1c-a850-c0115ff5ec5a"
      },
      "execution_count": 12,
      "outputs": [
        {
          "output_type": "stream",
          "name": "stdout",
          "text": [
            "2.2\n"
          ]
        }
      ]
    },
    {
      "cell_type": "code",
      "source": [
        "# point1의 y좌표만 추출\n",
        "y = point1.y\n",
        "print(y)"
      ],
      "metadata": {
        "colab": {
          "base_uri": "https://localhost:8080/"
        },
        "id": "C1PfnOcb_FpT",
        "outputId": "2caba023-31bf-4cf4-aa3f-77bff25c9d6f"
      },
      "execution_count": 13,
      "outputs": [
        {
          "output_type": "stream",
          "name": "stdout",
          "text": [
            "4.2\n"
          ]
        }
      ]
    },
    {
      "cell_type": "code",
      "source": [
        "# point1 와 point2 두 점 사이의 거리 계산\n",
        "point_dist = point1.distance(point2)\n",
        "print(\"Distance between the points is {0:.2f} decimal degrees\".format(point_dist))"
      ],
      "metadata": {
        "colab": {
          "base_uri": "https://localhost:8080/"
        },
        "id": "PCxxyalO_I8P",
        "outputId": "934d6e75-c8c0-4191-ebfd-6c1b0f60c9a6"
      },
      "execution_count": 14,
      "outputs": [
        {
          "output_type": "stream",
          "name": "stdout",
          "text": [
            "Distance between the points is 29.72 decimal degrees\n"
          ]
        }
      ]
    },
    {
      "cell_type": "markdown",
      "source": [
        "## 선(Line String)\n",
        "점 생성 방법과 매우 유사하다. 단일 좌표 튜플을 사용하여 형상화된 점, 객체 또는 좌표 튜플 목록을 사용하여 선을 구성할 수 있다."
      ],
      "metadata": {
        "id": "RskfCzac_LqN"
      }
    },
    {
      "cell_type": "code",
      "source": [
        "line = LineString([point1, point2, point3])\n",
        "print(line)\n",
        "print(type(line))"
      ],
      "metadata": {
        "colab": {
          "base_uri": "https://localhost:8080/"
        },
        "id": "RqhwyK7v_NWz",
        "outputId": "8c64f946-9761-41ef-d4fc-eb4b656075bc"
      },
      "execution_count": 15,
      "outputs": [
        {
          "output_type": "stream",
          "name": "stdout",
          "text": [
            "LINESTRING (2.2 4.2, 7.2 -25.1, 9.26 -2.456)\n",
            "<class 'shapely.geometry.linestring.LineString'>\n"
          ]
        }
      ]
    },
    {
      "cell_type": "code",
      "source": [
        "# 같은 결과를 가진 좌표 튜플을 사용 가능\n",
        "line2 = LineString([(2.2, 4.2), (7.2, -25.1), (9.26, -2.456)])\n",
        "print(line2)"
      ],
      "metadata": {
        "colab": {
          "base_uri": "https://localhost:8080/"
        },
        "id": "Wyy0yeJq_ROO",
        "outputId": "add3968b-c73d-49f1-db19-e5de1caeba02"
      },
      "execution_count": 16,
      "outputs": [
        {
          "output_type": "stream",
          "name": "stdout",
          "text": [
            "LINESTRING (2.2 4.2, 7.2 -25.1, 9.26 -2.456)\n"
          ]
        }
      ]
    },
    {
      "cell_type": "markdown",
      "source": [
        "\n",
        "### 선 속성과 함수\n",
        "많은 유용한 속성과 기능이 내장되어 있는데, 예를 들면 선(LineString)의 좌표 또는 길이를 추출하고, 선의 중심을 계산하고, 특정 거리에서 선을 따라 점을 작성하고, 선에서 지정된 점까지의 가장 가까운 거리를 계산하고 형상을 단순화할 수 있다."
      ],
      "metadata": {
        "id": "OFBx2A69_Sqo"
      }
    },
    {
      "cell_type": "code",
      "source": [
        "# 선의 x, y 좌표 추출\n",
        "lxy = line.xy\n",
        "print(lxy)"
      ],
      "metadata": {
        "colab": {
          "base_uri": "https://localhost:8080/"
        },
        "id": "5uz6zxTp_VDR",
        "outputId": "21034b21-872d-41fe-b4b8-433b15a8df54"
      },
      "execution_count": 17,
      "outputs": [
        {
          "output_type": "stream",
          "name": "stdout",
          "text": [
            "(array('d', [2.2, 7.2, 9.26]), array('d', [4.2, -25.1, -2.456]))\n"
          ]
        }
      ]
    },
    {
      "cell_type": "markdown",
      "source": [
        "이 좌표가 다시 숫자 배열로 저장되는 것을 볼 수 있는데, 여기서 첫 번째 배열은 모든 x 좌표를 포함하고 두 번째 배열은 모든 y 좌표를 포함한다.\n"
      ],
      "metadata": {
        "id": "1lemhDxu_YFj"
      }
    },
    {
      "cell_type": "code",
      "source": [
        "# \bx좌표 추출\n",
        "line_x = lxy[0]\n",
        "print(line_x)"
      ],
      "metadata": {
        "colab": {
          "base_uri": "https://localhost:8080/"
        },
        "id": "xeO1r01F_Wl9",
        "outputId": "3e32abf7-7bd2-4d3b-cdbc-1f9023835ef2"
      },
      "execution_count": 18,
      "outputs": [
        {
          "output_type": "stream",
          "name": "stdout",
          "text": [
            "array('d', [2.2, 7.2, 9.26])\n"
          ]
        }
      ]
    },
    {
      "cell_type": "code",
      "source": [
        "# 인덱스 1의 배열을 참조하여 Line Object에서 y좌표를 직접 추출\n",
        "line_y = line.xy[1]\n",
        "print(line_y)"
      ],
      "metadata": {
        "colab": {
          "base_uri": "https://localhost:8080/"
        },
        "id": "HDHIchSN_Zb9",
        "outputId": "678e9a4d-4571-48bf-8a21-b5ae03548220"
      },
      "execution_count": 19,
      "outputs": [
        {
          "output_type": "stream",
          "name": "stdout",
          "text": [
            "array('d', [4.2, -25.1, -2.456])\n"
          ]
        }
      ]
    },
    {
      "cell_type": "markdown",
      "source": [
        "선(LineString) 객체 자체에서 직선(중심)의 선이나 중심 등의 특정 속성을 얻을 수 있다.\n"
      ],
      "metadata": {
        "id": "5NgXH43C_ax6"
      }
    },
    {
      "cell_type": "code",
      "source": [
        "# 선의 길이 추출\n",
        "l_length = line.length\n",
        "print(\"Length of our line: {0:.2f}\".format(l_length))"
      ],
      "metadata": {
        "colab": {
          "base_uri": "https://localhost:8080/"
        },
        "id": "Xd4dzgK2_cb8",
        "outputId": "909d432d-2473-421d-9fff-184eda8c9318"
      },
      "execution_count": 20,
      "outputs": [
        {
          "output_type": "stream",
          "name": "stdout",
          "text": [
            "Length of our line: 52.46\n"
          ]
        }
      ]
    },
    {
      "cell_type": "code",
      "source": [
        "# 선의 중심 추출\n",
        "l_centroid = line.centroid\n",
        "centroid_type = type(l_centroid)\n",
        "print(\"Centroid of our line: \", l_centroid) \n",
        "print(\"Type of the centroid:\", centroid_type)"
      ],
      "metadata": {
        "colab": {
          "base_uri": "https://localhost:8080/"
        },
        "id": "yOEvsnc-_faA",
        "outputId": "024340c0-de74-46a7-f1d6-98feabad79ad"
      },
      "execution_count": 21,
      "outputs": [
        {
          "output_type": "stream",
          "name": "stdout",
          "text": [
            "Centroid of our line:  POINT (6.229961354035622 -11.892411157572392)\n",
            "Type of the centroid: <class 'shapely.geometry.point.Point'>\n"
          ]
        }
      ]
    },
    {
      "cell_type": "markdown",
      "source": [
        "\n",
        "## 폴리곤(Polygon)\n",
        "객체를 작성하면 점 과 선의 작성 방법과 동일한 로직이 계속되지만 Polygon 객체는 좌표 튜플만 입력으로 받아들이며, 최소 3개의 좌표 튜플이 필요하다."
      ],
      "metadata": {
        "id": "u-HL4GGC_kip"
      }
    },
    {
      "cell_type": "code",
      "source": [
        "# 좌표로 폴리곤 생성\n",
        "poly = Polygon([(2.2, 4.2), (7.2, -25.1), (9.26, -2.456)])\n",
        "print(poly)"
      ],
      "metadata": {
        "colab": {
          "base_uri": "https://localhost:8080/"
        },
        "id": "kvGXLw9v_lLj",
        "outputId": "8df08a2f-80d5-42ce-b2ee-39cda975c3a9"
      },
      "execution_count": 22,
      "outputs": [
        {
          "output_type": "stream",
          "name": "stdout",
          "text": [
            "POLYGON ((2.2 4.2, 7.2 -25.1, 9.26 -2.456, 2.2 4.2))\n"
          ]
        }
      ]
    },
    {
      "cell_type": "code",
      "source": [
        "# 이전에 작성한 선 오브젝트도 사용할 수 있다. (Polygon 객체는 x, y 좌표를 입력으로 해야함)\n",
        "poly2 = Polygon([[p.x, p.y] for p in [point1, point2, point3]])\n",
        "print(poly2)"
      ],
      "metadata": {
        "colab": {
          "base_uri": "https://localhost:8080/"
        },
        "id": "-n9uCPGt_m0O",
        "outputId": "fd6fa18c-b894-48e4-9a41-01ffc0779348"
      },
      "execution_count": 23,
      "outputs": [
        {
          "output_type": "stream",
          "name": "stdout",
          "text": [
            "POLYGON ((2.2 4.2, 7.2 -25.1, 9.26 -2.456, 2.2 4.2))\n"
          ]
        }
      ]
    },
    {
      "cell_type": "code",
      "source": [
        "# Geometry type은 문자열로 엑세스 가능\n",
        "poly_type = poly.geom_type\n",
        "print(\"Geometry type as text:\", poly_type)"
      ],
      "metadata": {
        "colab": {
          "base_uri": "https://localhost:8080/"
        },
        "id": "9DLOs5Uy_qOt",
        "outputId": "415f89f7-7841-4305-e22f-ab94654c7fa0"
      },
      "execution_count": 24,
      "outputs": [
        {
          "output_type": "stream",
          "name": "stdout",
          "text": [
            "Geometry type as text: Polygon\n"
          ]
        }
      ]
    },
    {
      "cell_type": "code",
      "source": [
        "# type 확인\n",
        "poly_type2 = type(poly)\n",
        "print(\"Geometry how Python shows it:\", poly_type2)"
      ],
      "metadata": {
        "colab": {
          "base_uri": "https://localhost:8080/"
        },
        "id": "_5egvhsF_sFN",
        "outputId": "45448875-d290-454a-8962-605d9c4f94f3"
      },
      "execution_count": 25,
      "outputs": [
        {
          "output_type": "stream",
          "name": "stdout",
          "text": [
            "Geometry how Python shows it: <class 'shapely.geometry.polygon.Polygon'>\n"
          ]
        }
      ]
    },
    {
      "cell_type": "markdown",
      "source": [
        "폴리곤이 내부에 구멍을 낼 수도 있기 때문에 좌표 주위에 이중 괄호가 있다. 도움말로 외부 좌표 및 내부 좌표(선택 사항)를 사용하여 폴리곤을 구성할 수 있는데 여기서 내부 좌표는 폴리곤 내부에 구멍을 만든다."
      ],
      "metadata": {
        "id": "doarcWJY_uS4"
      }
    },
    {
      "cell_type": "markdown",
      "source": [
        "\n",
        "```\n",
        "Help on Polygon in module shapely.geometry.polygon object:\n",
        "class Polygon(shapely.geometry.base.BaseGeometry)\n",
        " |  A two-dimensional figure bounded by a linear ring\n",
        " |\n",
        " |  A polygon has a non-zero area. It may have one or more negative-space\n",
        " |  \"holes\" which are also bounded by linear rings. If any rings cross each\n",
        " |  other, the feature is invalid and operations on it may fail.\n",
        " |\n",
        " |  Attributes\n",
        " |  ----------\n",
        " |  exterior : LinearRing\n",
        " |      The ring which bounds the positive space of the polygon.\n",
        " |  interiors : sequence\n",
        " |      A sequence of rings which bound all existing holes.```\n",
        "\n"
      ],
      "metadata": {
        "id": "VZMXAJU3AC0a"
      }
    },
    {
      "cell_type": "markdown",
      "source": [
        "다음은 내부에 구멍이 있는 폴리곤을 만드는 방법이다."
      ],
      "metadata": {
        "id": "ijgisiqBAFw_"
      }
    },
    {
      "cell_type": "code",
      "source": [
        "# 먼저 외관을 정의\n",
        "world_exterior = [(-180, 90), (-180, -90), (180, -90), (180, 90)]\n",
        "\n",
        "# 소수점 10도를 남기는 큰 구멍을 만들기 (구멍이 여러 개 있을 수 있으므로 구멍 목록을 제공해야함)\n",
        "hole = [[(-170, 80), (-170, -80), (170, -80), (170, 80)]]\n",
        "\n",
        "# 구멍이 없는 것\n",
        "world = Polygon(shell=world_exterior)\n",
        "print(world)"
      ],
      "metadata": {
        "colab": {
          "base_uri": "https://localhost:8080/"
        },
        "id": "sCNQXIuF__oS",
        "outputId": "28a46ae0-76a3-4ed4-e858-c177d49d194d"
      },
      "execution_count": 26,
      "outputs": [
        {
          "output_type": "stream",
          "name": "stdout",
          "text": [
            "POLYGON ((-180 90, -180 -90, 180 -90, 180 90, -180 90))\n"
          ]
        }
      ]
    },
    {
      "cell_type": "code",
      "source": [
        "# 이제 내부에 구멍을 뚫어 폴리곤을 만들기\n",
        "world_has_a_hole = Polygon(shell=world_exterior, holes=hole)\n",
        "print(world_has_a_hole)\n",
        "print(type(world_has_a_hole))"
      ],
      "metadata": {
        "colab": {
          "base_uri": "https://localhost:8080/"
        },
        "id": "XwMYOB8bANfQ",
        "outputId": "9c31789e-7ea9-4096-e6ef-84ad9359d63f"
      },
      "execution_count": 27,
      "outputs": [
        {
          "output_type": "stream",
          "name": "stdout",
          "text": [
            "POLYGON ((-180 90, -180 -90, 180 -90, 180 90, -180 90), (-170 80, -170 -80, 170 -80, 170 80, -170 80))\n",
            "<class 'shapely.geometry.polygon.Polygon'>\n"
          ]
        }
      ]
    },
    {
      "cell_type": "markdown",
      "source": [
        "따라서 폴리곤에 두 개의 서로 다른 좌표 배수가 있다는 것을 알 수 있다. 첫 번째 것은 바깥쪽을 나타내고 두 번째 것은 폴리곤 내부의 구멍을 나타낸다."
      ],
      "metadata": {
        "id": "C1ah87MiASdd"
      }
    },
    {
      "cell_type": "markdown",
      "source": [
        "\n",
        "### 폴리곤 속성과 함수\n",
        "폴리곤의 면적, 중심, 경계 상자, 외부 및 외부 길이와 같이 매우 유용한 여러 속성에 다시 액세스할 수 있다.\n"
      ],
      "metadata": {
        "id": "R4gNcwNIATcy"
      }
    },
    {
      "cell_type": "code",
      "source": [
        "# 폴리곤 중심 추출\n",
        "world_centroid = world.centroid\n",
        "print(\"Poly centroid: \", world_centroid)"
      ],
      "metadata": {
        "colab": {
          "base_uri": "https://localhost:8080/"
        },
        "id": "w3X0ZfUWAXJ-",
        "outputId": "0beb6eb9-3379-47b2-8dd6-25d646560d15"
      },
      "execution_count": 28,
      "outputs": [
        {
          "output_type": "stream",
          "name": "stdout",
          "text": [
            "Poly centroid:  POINT (0 0)\n"
          ]
        }
      ]
    },
    {
      "cell_type": "code",
      "source": [
        "# 폴리곤 면적 추출\n",
        "world_area = world.area\n",
        "print(\"Poly Area: \", world_area)"
      ],
      "metadata": {
        "colab": {
          "base_uri": "https://localhost:8080/"
        },
        "id": "v4g7QQzSAYc0",
        "outputId": "df0b94bb-c411-4354-97ee-3efaf55f6a00"
      },
      "execution_count": 29,
      "outputs": [
        {
          "output_type": "stream",
          "name": "stdout",
          "text": [
            "Poly Area:  64800.0\n"
          ]
        }
      ]
    },
    {
      "cell_type": "code",
      "source": [
        "# 폴리곤 경계 추출\n",
        "world_bbox = world.bounds\n",
        "print(\"Poly Bounding Box: \", world_bbox)"
      ],
      "metadata": {
        "colab": {
          "base_uri": "https://localhost:8080/"
        },
        "id": "p4u9ZAnHAaGR",
        "outputId": "11dd97db-3041-48a6-d9f1-488b337e0590"
      },
      "execution_count": 30,
      "outputs": [
        {
          "output_type": "stream",
          "name": "stdout",
          "text": [
            "Poly Bounding Box:  (-180.0, -90.0, 180.0, 90.0)\n"
          ]
        }
      ]
    },
    {
      "cell_type": "code",
      "source": [
        "# 폴리곤 외관 추출\n",
        "world_ext = world.exterior\n",
        "print(\"Poly Exterior: \", world_ext)"
      ],
      "metadata": {
        "colab": {
          "base_uri": "https://localhost:8080/"
        },
        "id": "BRu2hbzxAbVK",
        "outputId": "dbcd5aae-e9a0-4db4-89e0-34652ce26c9e"
      },
      "execution_count": 31,
      "outputs": [
        {
          "output_type": "stream",
          "name": "stdout",
          "text": [
            "Poly Exterior:  LINEARRING (-180 90, -180 -90, 180 -90, 180 90, -180 90)\n"
          ]
        }
      ]
    },
    {
      "cell_type": "code",
      "source": [
        "# 폴리곤 외관 길이 추출\n",
        "world_ext_length = world_ext.length\n",
        "print(\"Poly Exterior Length: \", world_ext_length)"
      ],
      "metadata": {
        "colab": {
          "base_uri": "https://localhost:8080/"
        },
        "id": "6f48lwBMAb0J",
        "outputId": "03d2fc4a-2f1d-4265-91ef-311b962ed5b2"
      },
      "execution_count": 32,
      "outputs": [
        {
          "output_type": "stream",
          "name": "stdout",
          "text": [
            "Poly Exterior Length:  1080.0\n"
          ]
        }
      ]
    },
    {
      "cell_type": "markdown",
      "source": [
        "## Pro -tips(선택적 팁)\n",
        "이 파트는 필수는 아니지만 지오메트리 컬렉션의 구성 및 사용과 관련된 유용한 정보 및 경계 상자 등의 일부 특수 기하학적 객체가 포함되어 있다."
      ],
      "metadata": {
        "id": "oiUMVw7yAfso"
      }
    },
    {
      "cell_type": "markdown",
      "source": [
        "### Geometric Collection\n",
        "단일 피쳐 아래에 여러 선 또는 폴리곤을 저장하는 것이 유용한 경우도 있다(예: Shapefile의 단일 행은 둘 이상의 선 또는 폴리곤 개체를 나타냄). 점 집합은 MultiPoint 객체를 사용하여 구현되고, 곡선 집합은 MultiLineString 객체를 사용하여 구현되며, 지표면 집합은 MultiPolygon 객체를 사용하여 구현된다. 이러한 컬렉션은 계산상 중요하지 않지만 특정 종류의 피쳐를 모델링하는 데 유용하다. 따라서 MultiLineString 또는 MultiPolygon을 사용하여 Y자형 선 피쳐(도로 등) 또는 여러 폴리곤(예: 섬)을 전체적으로 표시할 수 있다. 예를 들어 데이터 포인트 주위에 최소 경계 상자를 만들고 시각화하는 것은 여러 용도로 매우 유용한 기능이다(예: 데이터의 범위를 이해하려고 노력함). 따라서 Shapely를 사용하여 경계 상자를 만드는 방법을 시연한다."
      ],
      "metadata": {
        "id": "zYsDmYbXAho1"
      }
    },
    {
      "cell_type": "code",
      "source": [
        "# 필요한 라이브러리 불러오기\n",
        "from shapely.geometry import MultiPoint, MultiLineString, MultiPolygon, box\n",
        "\n",
        "# points 1,2 and 3에 대한 MultiPoint 객체 생성\n",
        "multi_point = MultiPoint([point1, point2, point3])\n",
        "print(\"MultiPoint:\", multi_point)"
      ],
      "metadata": {
        "colab": {
          "base_uri": "https://localhost:8080/"
        },
        "id": "2Q9y2PGYAj5F",
        "outputId": "e5dbfed4-4051-4d89-e423-ba41cd10faa5"
      },
      "execution_count": 33,
      "outputs": [
        {
          "output_type": "stream",
          "name": "stdout",
          "text": [
            "MultiPoint: MULTIPOINT (2.2 4.2, 7.2 -25.1, 9.26 -2.456)\n"
          ]
        }
      ]
    },
    {
      "cell_type": "code",
      "source": [
        "# 위 코드를 튜플로 제공할 수 도 있음\n",
        "multi_point2 = MultiPoint([(2.2, 4.2), (7.2, -25.1), (9.26, -2.456)])"
      ],
      "metadata": {
        "id": "xpa3VnWrAnDc"
      },
      "execution_count": 34,
      "outputs": []
    },
    {
      "cell_type": "code",
      "source": [
        "# 두개의 선을 이용해 MultiLineString 객체 생성\n",
        "line1 = LineString([point1, point2])\n",
        "line2 = LineString([point2, point3])\n",
        "multi_line = MultiLineString([line1, line2])\n",
        "print(\"MultiLine: \", multi_line)"
      ],
      "metadata": {
        "colab": {
          "base_uri": "https://localhost:8080/"
        },
        "id": "EtH7dVf0ApHe",
        "outputId": "1b2ef6bf-5e9f-4930-84f3-89b63c8ca662"
      },
      "execution_count": 40,
      "outputs": [
        {
          "output_type": "stream",
          "name": "stdout",
          "text": [
            "MultiLine:  MULTILINESTRING ((2.2 4.2, 7.2 -25.1), (7.2 -25.1, 9.26 -2.456))\n"
          ]
        }
      ]
    },
    {
      "cell_type": "code",
      "source": [
        "# MultiPolygon도 같은 방법으로 실행 가능\n",
        "# 서반구에 구멍이 뚫린 서반구와 동반구로 나누기\n",
        "# --------------------------------------------------------------------------------------------------\n",
        "# 지구 서부의 외관을 만들기\n",
        "west_exterior = [(-180, 90), (-180, -90), (0, -90), (0, 90)]\n",
        "\n",
        "# 구멍을 만들기 (구멍이 여러 개 있을 수 있으므로 구멍 목록이 필요함)\n",
        "# 목록 중 하나를 가져온 것임\n",
        "west_hole = [[(-170, 80), (-170, -80), (-10, -80), (-10, 80)]]\n",
        "\n",
        "# 폴리곤 생성하기\n",
        "west_poly = Polygon(shell=west_exterior, holes=west_hole)\n",
        "\n",
        "# 경계 상자를 사용하여 동반구 폴리곤 만들기 (경계 상자에 왼쪽 하단 모서리 좌표와 오른쪽 상단 좌표를 지정해야함)\n",
        "min_x, min_y = 0, -90\n",
        "max_x, max_y = 180, 90\n",
        "\n",
        "# box()함수로 폴리곤 만들기\n",
        "east_poly_box = box(minx=min_x, miny=min_y, maxx=max_x, maxy=max_y)\n",
        "print(\"Bounding box: \", east_poly_box)"
      ],
      "metadata": {
        "colab": {
          "base_uri": "https://localhost:8080/"
        },
        "id": "TqhZM2rUAruI",
        "outputId": "1f5f49ec-88cf-4b5b-e827-6fbca01ebb1e"
      },
      "execution_count": 36,
      "outputs": [
        {
          "output_type": "stream",
          "name": "stdout",
          "text": [
            "Bounding box:  POLYGON ((180 -90, 180 90, 0 90, 0 -90, 180 -90))\n"
          ]
        }
      ]
    },
    {
      "cell_type": "code",
      "source": [
        "# MultiPolygon 만들기 (여러 Polygon - 객체를 목록으로 MultiPolygon에 전달할 수 있음)\n",
        "multi_poly = MultiPolygon([west_poly, east_poly_box])\n",
        "print(\"MultiPoly: \", multi_poly)"
      ],
      "metadata": {
        "colab": {
          "base_uri": "https://localhost:8080/"
        },
        "id": "N9cBZ3gsAxg-",
        "outputId": "74ad61e9-e7ed-4ace-ea20-8afa8a3f2a7b"
      },
      "execution_count": 37,
      "outputs": [
        {
          "output_type": "stream",
          "name": "stdout",
          "text": [
            "MultiPoly:  MULTIPOLYGON (((-180 90, -180 -90, 0 -90, 0 90, -180 90), (-170 80, -170 -80, -10 -80, -10 80, -170 80)), ((180 -90, 180 90, 0 90, 0 -90, 180 -90)))\n"
          ]
        }
      ]
    },
    {
      "cell_type": "markdown",
      "source": [
        "### 객체 속성과 함수\n",
        "이러한 오브젝트로부터 많은 유용한 속성을 얻을 수도 있다."
      ],
      "metadata": {
        "id": "aMe2vwA2Ay00"
      }
    },
    {
      "cell_type": "code",
      "source": [
        "# **Convex Hull** of our MultiPoint --> https://en.wikipedia.org/wiki/Convex_hull\n",
        "convex = multi_point.convex_hull\n",
        "print(\"Convex hull of the points: \", convex)"
      ],
      "metadata": {
        "colab": {
          "base_uri": "https://localhost:8080/"
        },
        "id": "IE5mpb6eAzwu",
        "outputId": "1b30a3b2-3835-4b98-91bd-de9c30ebabff"
      },
      "execution_count": 38,
      "outputs": [
        {
          "output_type": "stream",
          "name": "stdout",
          "text": [
            "Convex hull of the points:  POLYGON ((7.2 -25.1, 2.2 4.2, 9.26 -2.456, 7.2 -25.1))\n"
          ]
        }
      ]
    },
    {
      "cell_type": "code",
      "source": [
        "# MultiPolygon의 면적 계산\n",
        "multi_poly_area = multi_poly.area\n",
        "print(\"Area of our MultiPolygon:\", multi_poly_area)"
      ],
      "metadata": {
        "colab": {
          "base_uri": "https://localhost:8080/"
        },
        "id": "k38LfUivBKQT",
        "outputId": "afc56a25-b4b4-4d99-9e78-effe5397e5e5"
      },
      "execution_count": 42,
      "outputs": [
        {
          "output_type": "stream",
          "name": "stdout",
          "text": [
            "Area of our MultiPolygon: 39200.0\n"
          ]
        }
      ]
    },
    {
      "cell_type": "code",
      "source": [
        "# 유효한 MultiPolygon이 있는지 확인할 수 있다. \n",
        "valid = multi_poly.is_valid\n",
        "print(\"Is polygon valid?: \", valid)"
      ],
      "metadata": {
        "colab": {
          "base_uri": "https://localhost:8080/"
        },
        "id": "8_pBfJrNBr_4",
        "outputId": "87f62491-2e90-40c5-acd0-6758a21c0b05"
      },
      "execution_count": 47,
      "outputs": [
        {
          "output_type": "stream",
          "name": "stdout",
          "text": [
            "Is polygon valid?:  False\n"
          ]
        }
      ]
    },
    {
      "cell_type": "markdown",
      "source": [
        "개별 다각형이 서로 교차하지 않는 경우 다중 다각형이 유효한 것으로 간주되는데, 여기서 다각형은 공통의 0 자오선을 가지므로 유효한 다각형을 가질 수 없다. 이 정보는 데이터에서 위상적인(topological) 오류를 찾을 때 매우 유용한 정보가 될 수 \b있다. 따라서 is_valid를 이용해 폴리곤 또는 선이 서로 교차하는지 여부를 확인한다."
      ],
      "metadata": {
        "id": "wcCCA3TmBxVC"
      }
    }
  ]
}
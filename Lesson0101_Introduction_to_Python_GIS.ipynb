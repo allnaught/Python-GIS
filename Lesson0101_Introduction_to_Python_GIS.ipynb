{
  "nbformat": 4,
  "nbformat_minor": 0,
  "metadata": {
    "colab": {
      "provenance": [],
      "toc_visible": true
    },
    "kernelspec": {
      "name": "python3",
      "display_name": "Python 3"
    },
    "language_info": {
      "name": "python"
    }
  },
  "cells": [
    {
      "cell_type": "markdown",
      "source": [
        "# Lesson1-01. Introduction to Python GIS"
      ],
      "metadata": {
        "id": "io0xldv8JQQg"
      }
    },
    {
      "cell_type": "markdown",
      "source": [
        "## Python으로 GIS를 사용해야하는 이유\n",
        "Python은 다양한 GIS 소프트웨어 패키지(ArcGIS, QGIS, PostGIS 등)의 많은 부분이 Python 스크립트를 사용하여 분석하기 위한 인터페이스를 제공하기 때문에 GIS 측면에서 매우 유용한 언어이다. 추가 소프트웨어 없이 Python을 사용하여 GIS를 사용하는 몇 가지 이유는 아래와 같다.\n",
        "- ArcGIS를 위해 비싼 라이선스를 구입할 필요없이 무료로 이용 가능하다.\n",
        "- 다양한 지오프로세싱 작업이 어떻게 작동하는지 더 깊이 이해하고 배울 수 있다.\n",
        "- 빅데이터 분석에 사용되는 Python은 매우 효율적이다. \n",
        "- Python은 매우 유연해 상상할 수 있는 모든 데이터 형식을 지원한다.\n",
        "- Python(또는 다른 오픈 소스 프로그래밍 언어)을 사용하면 누구나 무료로 작업을 재현할 수 있으므로 오픈 소스 소프트웨어/코드 및 오픈 사이언스를 사용할 수 있다.\n",
        "- 플러그인에 접속하여 다양한 서드파티 소프트웨어를 체인으로 연결하여 원하는 대로 고급 웹 GIS 애플리케이션을 구축할 수 있다."
      ],
      "metadata": {
        "id": "VySU7EltIuky"
      }
    },
    {
      "cell_type": "markdown",
      "source": [
        "## 어떤 Tool을 사용할까?"
      ],
      "metadata": {
        "id": "1BCeX09-JHcc"
      }
    },
    {
      "cell_type": "markdown",
      "source": [
        "\n",
        "### 데이터분석 및 시각화\n",
        "- [Pandas](https://pandas.pydata.org/): 데이터 조작 및 처리\n",
        "- [Numpy](https://numpy.org/): 과학계산을 위한 라이브러리로 수치 데이터 처리 및 조작\n",
        "- [Scipy](https://scipy.org/): 과학계산을 위한 라이브러리로 수치해석, 최적화, 신호처리, 이미지 처리\n",
        "- [Matplotlib](https://matplotlib.org/): 데이터 시각화\n",
        "- [Bokeh](https://bokeh.org/): 동적인 데이터 시각화, Plotly와 유사하지만 다양한 타입의 그래프 지원 및 커스터마이징이 자유로움\n",
        "- [Plotly](https://plotly.com/python/): 동적인 데이터 시각화"
      ],
      "metadata": {
        "id": "KIEXdMEnJM5I"
      }
    },
    {
      "cell_type": "code",
      "source": [
        "# 라이브러리 호출 예시\n",
        "import pandas as pd\n",
        "import numpy as np\n",
        "from scipy.optimize import minimize\n",
        "import matplotlib.pyplot as plt\n",
        "from bokeh.plotting import figure\n",
        "import plotly"
      ],
      "metadata": {
        "id": "_ZnC9qJfJbVJ"
      },
      "execution_count": null,
      "outputs": []
    },
    {
      "cell_type": "markdown",
      "source": [
        "### GIS\n",
        "- [GDAL](https://gdal.org/): 다양한 포맷의 GIS를 읽고 쓰고 변환하는 기능\n",
        "- [Geopandas](https://geopandas.org/en/stable/): GIS를 다루기 위한 Pandas기반 라이브러리로 공간데이터와 비공간데이터를 함께 다룸\n",
        "- [Shapely](https://pypi.org/project/shapely/): 지리공간객체의 생성, 분석, 연산 등의 기능 제공\n",
        "- [Fiona](https://pypi.org/project/Fiona/): GDAL의 벡엔드 라이브러리 중 하나이며 공간데이터 읽기 및 쓰기 기능 제공\n",
        "- [Pyproj](https://pypi.org/project/pyproj/): 다양한 좌표계 변환 지원\n",
        "- [Pysal](https://pysal.org/): 공간 데이터 분석을 위한 라이브러리로 공간 자기상관, 공간 클러스터링, 공간 회귀 등 제공\n",
        "- [Geopy](https://pypi.org/project/geopy/): 지리좌표를 다루는 라이브러리로 주소 검색, 거리 계산, 지리좌표 변환 등의 기능 제공\n",
        "- [GeoViews](https://geoviews.org/): 동적인 데이터 시각화, 다양한 그래프 타입과 기능 제공\n",
        "- [Networkx](https://networkx.org/): 그래프 이론 및 네트워크 분석을 위한 라이브러리로 네트워크 분석 지원\n",
        "- [Cartopy](https://scitools.org.uk/cartopy/docs/latest/): 지도 및 지형지도 등 다양한 타입의 GIS 시각화 지원\n",
        "- [Scipy.spacial](https://docs.scipy.org/doc/scipy/reference/spatial.html): 공간데이터 처리를 위한 라이브러리로 거리 계산, 볼록 껍질 계산 등의 기능 제공\n",
        "- [Rtree](https://pypi.org/project/Rtree/): 공간데이터 색인을 위한 라이브러리로 공간데이터를 빠르게 검색하기 위한 인덱싱 기능 제공\n",
        "- [Rasterio](https://pypi.org/project/rasterio/): 래스터 데이터 처리를 위한 라이브러리로 GDAL의 래스터 기능을 보다 간단하게 사용할 수 있도록 제공\n",
        "- [RSGLSLib](https://github.com/remotesensinginfo/rsgislib): 래스터 공간데이터 처리를 위한 라이브러리로 공간영상처리, 래스터 영상처리, 래스터 공간통계 분석 등 다양한 래스터 데이터 처리 기능 제공"
      ],
      "metadata": {
        "id": "XBOZhZpLJKj6"
      }
    },
    {
      "cell_type": "code",
      "source": [
        "# 라이브러리 호출 예시\n",
        "from osgeo import gdal\n",
        "import geopandas as gpd\n",
        "from shapely.geometry import Point, LineString, Polygon\n",
        "import fiona\n",
        "from pyproj import Proj, transform\n",
        "import pysal\n",
        "import geopy\n",
        "import geoviews as gv\n",
        "import networkx as nx\n",
        "import cartopy\n",
        "from scipy import special\n",
        "from rtree import RTree\n",
        "import rasetrio\n",
        "import rsgislib"
      ],
      "metadata": {
        "id": "KJywoDrpI1wc"
      },
      "execution_count": null,
      "outputs": []
    }
  ]
}

{
 "nbformat": 4,
 "nbformat_minor": 0,
 "metadata": {
  "colab": {
   "provenance": [],
   "toc_visible": true
  },
  "kernelspec": {
   "name": "python3",
   "display_name": "Python 3"
  },
  "language_info": {
   "name": "python"
  }
 },
 "cells": [
  {
   "cell_type": "markdown",
   "source": [
    "# Lesson2. Using Geopandas"
   ],
   "metadata": {
    "id": "MZcS6HnvDKmA"
   }
  },
  {
   "cell_type": "markdown",
   "source": [
    "Geopandas는 Pandas 위에 구축된 Python 모듈로 기능을 확장한 데이터 분석 라이브러리이다. Geopandas를 통해 Shape files(.shp)나 Post 등에 저장된 공간 데이터로 작업할 수 있다. Geopandas에는 오버레이 분석, 지오코딩, 공간 집계 방법 및 속성/공간 결합과 같은 훌륭한 내장 공간 처리/분석 기능이 많이 있으며, 모두 상당히 유용하고 일반적으로 사용되는 GIS 기능이다. Geopandas를 사용하여 Rasterio로 간단한 처리를 수행할 수도 있지만 래스터(raster) 분석을 수행하기 위한 기능이 풍부한 파이썬 모듈도 있다(Lesson.7에서 다룸)."
   ],
   "metadata": {
    "id": "cQbAV_5YDU1N"
   }
  },
  {
   "cell_type": "markdown",
   "source": [
    "## Shapefile 불러오기"
   ],
   "metadata": {
    "id": "bZacUTlcDWdp"
   }
  },
  {
   "cell_type": "markdown",
   "source": [
    "먼저 Dataset을 다운로드 받자. => [Download Data](https://github.com/riverallzero/Study_GIS/blob/main/Dataset/Lesson2)\n"
   ],
   "metadata": {
    "id": "9JnjMsw9Dbva"
   }
  },
  {
   "cell_type": "code",
   "source": [
    "!pip install geopandas"
   ],
   "metadata": {
    "colab": {
     "base_uri": "https://localhost:8080/"
    },
    "id": "Rf_4WiY_DxkB",
    "outputId": "b129ed3a-432d-4375-bd4f-0c8314323668"
   },
   "execution_count": 1,
   "outputs": [
    {
     "name": "stdout",
     "output_type": "stream",
     "text": [
      "Requirement already satisfied: geopandas in /opt/anaconda3/lib/python3.9/site-packages (0.12.2)\r\n",
      "Requirement already satisfied: shapely>=1.7 in /opt/anaconda3/lib/python3.9/site-packages (from geopandas) (2.0.1)\r\n",
      "Requirement already satisfied: pandas>=1.0.0 in /opt/anaconda3/lib/python3.9/site-packages (from geopandas) (1.4.4)\r\n",
      "Requirement already satisfied: packaging in /opt/anaconda3/lib/python3.9/site-packages (from geopandas) (21.3)\r\n",
      "Requirement already satisfied: fiona>=1.8 in /opt/anaconda3/lib/python3.9/site-packages (from geopandas) (1.9.1)\r\n",
      "Requirement already satisfied: pyproj>=2.6.1.post1 in /opt/anaconda3/lib/python3.9/site-packages (from geopandas) (3.4.1)\r\n",
      "Requirement already satisfied: munch>=2.3.2 in /opt/anaconda3/lib/python3.9/site-packages (from fiona>=1.8->geopandas) (2.5.0)\r\n",
      "Requirement already satisfied: cligj>=0.5 in /opt/anaconda3/lib/python3.9/site-packages (from fiona>=1.8->geopandas) (0.7.2)\r\n",
      "Requirement already satisfied: certifi in /opt/anaconda3/lib/python3.9/site-packages (from fiona>=1.8->geopandas) (2022.12.7)\r\n",
      "Requirement already satisfied: setuptools in /opt/anaconda3/lib/python3.9/site-packages (from fiona>=1.8->geopandas) (63.4.1)\r\n",
      "Requirement already satisfied: click-plugins>=1.0 in /opt/anaconda3/lib/python3.9/site-packages (from fiona>=1.8->geopandas) (1.1.1)\r\n",
      "Requirement already satisfied: click~=8.0 in /opt/anaconda3/lib/python3.9/site-packages (from fiona>=1.8->geopandas) (8.0.4)\r\n",
      "Requirement already satisfied: attrs>=19.2.0 in /opt/anaconda3/lib/python3.9/site-packages (from fiona>=1.8->geopandas) (21.4.0)\r\n",
      "Requirement already satisfied: python-dateutil>=2.8.1 in /opt/anaconda3/lib/python3.9/site-packages (from pandas>=1.0.0->geopandas) (2.8.2)\r\n",
      "Requirement already satisfied: pytz>=2020.1 in /opt/anaconda3/lib/python3.9/site-packages (from pandas>=1.0.0->geopandas) (2022.1)\r\n",
      "Requirement already satisfied: numpy>=1.20.0 in /opt/anaconda3/lib/python3.9/site-packages (from pandas>=1.0.0->geopandas) (1.21.5)\r\n",
      "Requirement already satisfied: pyparsing!=3.0.5,>=2.0.2 in /opt/anaconda3/lib/python3.9/site-packages (from packaging->geopandas) (3.0.9)\r\n",
      "Requirement already satisfied: six in /opt/anaconda3/lib/python3.9/site-packages (from munch>=2.3.2->fiona>=1.8->geopandas) (1.16.0)\r\n"
     ]
    }
   ]
  },
  {
   "cell_type": "code",
   "source": [
    "# Geopandas모듈 불러오기\n",
    "import geopandas as gpd\n",
    "\n",
    "# 데이터 파일 경로 설정 \n",
    "fp = \"Dataset/Lesson2/DAMSELFISH_distributions.shp\"\n",
    "\n",
    "# Geopandas를 이용해 파일 읽기 \n",
    "data = gpd.read_file(fp)\n",
    "print(type(data))"
   ],
   "metadata": {
    "colab": {
     "base_uri": "https://localhost:8080/"
    },
    "id": "xsCFscQpDWF7",
    "outputId": "10cf8480-f4fd-4702-8bd7-d5126288496b"
   },
   "execution_count": 2,
   "outputs": [
    {
     "name": "stdout",
     "output_type": "stream",
     "text": [
      "<class 'geopandas.geodataframe.GeoDataFrame'>\n"
     ]
    }
   ]
  },
  {
   "cell_type": "markdown",
   "source": [
    "GeoDataFrame은 공간적 데이터를 Dataframe에서 다룰 수 있고 이 기능을 GIS에 이용하는 것이다.\n",
    "Dataframe의 head()함수를 이용해서 총 데이터의 5개의 행을 출력해 확인할 수 있다."
   ],
   "metadata": {
    "id": "64b1n471D5Pq"
   }
  },
  {
   "cell_type": "code",
   "source": [
    "data.head()"
   ],
   "metadata": {
    "colab": {
     "base_uri": "https://localhost:8080/",
     "height": 647
    },
    "id": "Fa0YwUg_D3dV",
    "outputId": "4fe1937f-cbff-4fd9-8029-5626dbb1be70"
   },
   "execution_count": 3,
   "outputs": [
    {
     "data": {
      "text/plain": "      ID_NO             BINOMIAL  ORIGIN COMPILER  YEAR  \\\n0  183963.0   Stegastes leucorus       1     IUCN  2010   \n1  183963.0   Stegastes leucorus       1     IUCN  2010   \n2  183963.0   Stegastes leucorus       1     IUCN  2010   \n3  183793.0  Chromis intercrusma       1     IUCN  2010   \n4  183793.0  Chromis intercrusma       1     IUCN  2010   \n\n                                            CITATION  SOURCE  DIST_COMM  \\\n0  International Union for Conservation of Nature...     NaN        NaN   \n1  International Union for Conservation of Nature...     NaN        NaN   \n2  International Union for Conservation of Nature...     NaN        NaN   \n3  International Union for Conservation of Nature...     NaN        NaN   \n4  International Union for Conservation of Nature...     NaN        NaN   \n\n   ISLAND  SUBSPECIES  ...  RL_UPDATE KINGDOM_NA  PHYLUM_NAM      CLASS_NAME  \\\n0     NaN         NaN  ...     2012.1   ANIMALIA    CHORDATA  ACTINOPTERYGII   \n1     NaN         NaN  ...     2012.1   ANIMALIA    CHORDATA  ACTINOPTERYGII   \n2     NaN         NaN  ...     2012.1   ANIMALIA    CHORDATA  ACTINOPTERYGII   \n3     NaN         NaN  ...     2012.1   ANIMALIA    CHORDATA  ACTINOPTERYGII   \n4     NaN         NaN  ...     2012.1   ANIMALIA    CHORDATA  ACTINOPTERYGII   \n\n    ORDER_NAME     FAMILY_NAM GENUS_NAME   SPECIES_NA CATEGORY  \\\n0  PERCIFORMES  POMACENTRIDAE  Stegastes     leucorus       VU   \n1  PERCIFORMES  POMACENTRIDAE  Stegastes     leucorus       VU   \n2  PERCIFORMES  POMACENTRIDAE  Stegastes     leucorus       VU   \n3  PERCIFORMES  POMACENTRIDAE    Chromis  intercrusma       LC   \n4  PERCIFORMES  POMACENTRIDAE    Chromis  intercrusma       LC   \n\n                                            geometry  \n0  POLYGON ((-115.64375 29.71392, -115.61585 29.6...  \n1  POLYGON ((-105.58995 21.89340, -105.56483 21.8...  \n2  POLYGON ((-111.15962 19.01536, -111.15948 18.9...  \n3  POLYGON ((-80.86500 -0.77894, -80.75930 -0.833...  \n4  POLYGON ((-67.33922 -55.67610, -67.33755 -55.6...  \n\n[5 rows x 24 columns]",
      "text/html": "<div>\n<style scoped>\n    .dataframe tbody tr th:only-of-type {\n        vertical-align: middle;\n    }\n\n    .dataframe tbody tr th {\n        vertical-align: top;\n    }\n\n    .dataframe thead th {\n        text-align: right;\n    }\n</style>\n<table border=\"1\" class=\"dataframe\">\n  <thead>\n    <tr style=\"text-align: right;\">\n      <th></th>\n      <th>ID_NO</th>\n      <th>BINOMIAL</th>\n      <th>ORIGIN</th>\n      <th>COMPILER</th>\n      <th>YEAR</th>\n      <th>CITATION</th>\n      <th>SOURCE</th>\n      <th>DIST_COMM</th>\n      <th>ISLAND</th>\n      <th>SUBSPECIES</th>\n      <th>...</th>\n      <th>RL_UPDATE</th>\n      <th>KINGDOM_NA</th>\n      <th>PHYLUM_NAM</th>\n      <th>CLASS_NAME</th>\n      <th>ORDER_NAME</th>\n      <th>FAMILY_NAM</th>\n      <th>GENUS_NAME</th>\n      <th>SPECIES_NA</th>\n      <th>CATEGORY</th>\n      <th>geometry</th>\n    </tr>\n  </thead>\n  <tbody>\n    <tr>\n      <th>0</th>\n      <td>183963.0</td>\n      <td>Stegastes leucorus</td>\n      <td>1</td>\n      <td>IUCN</td>\n      <td>2010</td>\n      <td>International Union for Conservation of Nature...</td>\n      <td>NaN</td>\n      <td>NaN</td>\n      <td>NaN</td>\n      <td>NaN</td>\n      <td>...</td>\n      <td>2012.1</td>\n      <td>ANIMALIA</td>\n      <td>CHORDATA</td>\n      <td>ACTINOPTERYGII</td>\n      <td>PERCIFORMES</td>\n      <td>POMACENTRIDAE</td>\n      <td>Stegastes</td>\n      <td>leucorus</td>\n      <td>VU</td>\n      <td>POLYGON ((-115.64375 29.71392, -115.61585 29.6...</td>\n    </tr>\n    <tr>\n      <th>1</th>\n      <td>183963.0</td>\n      <td>Stegastes leucorus</td>\n      <td>1</td>\n      <td>IUCN</td>\n      <td>2010</td>\n      <td>International Union for Conservation of Nature...</td>\n      <td>NaN</td>\n      <td>NaN</td>\n      <td>NaN</td>\n      <td>NaN</td>\n      <td>...</td>\n      <td>2012.1</td>\n      <td>ANIMALIA</td>\n      <td>CHORDATA</td>\n      <td>ACTINOPTERYGII</td>\n      <td>PERCIFORMES</td>\n      <td>POMACENTRIDAE</td>\n      <td>Stegastes</td>\n      <td>leucorus</td>\n      <td>VU</td>\n      <td>POLYGON ((-105.58995 21.89340, -105.56483 21.8...</td>\n    </tr>\n    <tr>\n      <th>2</th>\n      <td>183963.0</td>\n      <td>Stegastes leucorus</td>\n      <td>1</td>\n      <td>IUCN</td>\n      <td>2010</td>\n      <td>International Union for Conservation of Nature...</td>\n      <td>NaN</td>\n      <td>NaN</td>\n      <td>NaN</td>\n      <td>NaN</td>\n      <td>...</td>\n      <td>2012.1</td>\n      <td>ANIMALIA</td>\n      <td>CHORDATA</td>\n      <td>ACTINOPTERYGII</td>\n      <td>PERCIFORMES</td>\n      <td>POMACENTRIDAE</td>\n      <td>Stegastes</td>\n      <td>leucorus</td>\n      <td>VU</td>\n      <td>POLYGON ((-111.15962 19.01536, -111.15948 18.9...</td>\n    </tr>\n    <tr>\n      <th>3</th>\n      <td>183793.0</td>\n      <td>Chromis intercrusma</td>\n      <td>1</td>\n      <td>IUCN</td>\n      <td>2010</td>\n      <td>International Union for Conservation of Nature...</td>\n      <td>NaN</td>\n      <td>NaN</td>\n      <td>NaN</td>\n      <td>NaN</td>\n      <td>...</td>\n      <td>2012.1</td>\n      <td>ANIMALIA</td>\n      <td>CHORDATA</td>\n      <td>ACTINOPTERYGII</td>\n      <td>PERCIFORMES</td>\n      <td>POMACENTRIDAE</td>\n      <td>Chromis</td>\n      <td>intercrusma</td>\n      <td>LC</td>\n      <td>POLYGON ((-80.86500 -0.77894, -80.75930 -0.833...</td>\n    </tr>\n    <tr>\n      <th>4</th>\n      <td>183793.0</td>\n      <td>Chromis intercrusma</td>\n      <td>1</td>\n      <td>IUCN</td>\n      <td>2010</td>\n      <td>International Union for Conservation of Nature...</td>\n      <td>NaN</td>\n      <td>NaN</td>\n      <td>NaN</td>\n      <td>NaN</td>\n      <td>...</td>\n      <td>2012.1</td>\n      <td>ANIMALIA</td>\n      <td>CHORDATA</td>\n      <td>ACTINOPTERYGII</td>\n      <td>PERCIFORMES</td>\n      <td>POMACENTRIDAE</td>\n      <td>Chromis</td>\n      <td>intercrusma</td>\n      <td>LC</td>\n      <td>POLYGON ((-67.33922 -55.67610, -67.33755 -55.6...</td>\n    </tr>\n  </tbody>\n</table>\n<p>5 rows × 24 columns</p>\n</div>"
     },
     "execution_count": 3,
     "metadata": {},
     "output_type": "execute_result"
    }
   ]
  },
  {
   "cell_type": "markdown",
   "source": [
    "이 데이터를 그래프로 그려본다면? plot()함수를 이용해 간단한 지도를 그려볼 수 있다."
   ],
   "metadata": {
    "id": "tia54O9LEB6F"
   }
  },
  {
   "cell_type": "code",
   "source": [
    "data.plot();"
   ],
   "metadata": {
    "colab": {
     "base_uri": "https://localhost:8080/",
     "height": 197
    },
    "id": "cez9zTNLEGo9",
    "outputId": "824db4ba-283b-4c82-afe2-8a3d3da2909f"
   },
   "execution_count": 4,
   "outputs": [
    {
     "data": {
      "text/plain": "<Figure size 640x480 with 1 Axes>",
      "image/png": "[encoded data removed]"
     },
     "metadata": {},
     "output_type": "display_data"
    }
   ]
  },
  {
   "cell_type": "markdown",
   "source": [
    "## 좌표기준계 (Coordinate reference system)\n"
   ],
   "metadata": {
    "id": "OIRneCw4EMgw"
   }
  },
  {
   "cell_type": "markdown",
   "source": [
    "GeoDataFrame으로 읽은 shapefile에는 거의 대부분 공간(좌표계)에 대한 정보를 담고 있다. **EPSG** 번호는 데이터 세트의 좌표계에 대해 알려주는 코드이다. \"EPSG 측지 매개변수 데이터 세트는 적용 시 전역, 지역, 국가 또는 지역일 수 있는 좌표 참조 시스템 및 좌표 변환의 정의 모음이다.\" 여기에 있는 EPSG 번호 4326은 **WGS84** 좌표계에 속한다(즉, 좌표는 소수점(lat, lon)). "
   ],
   "metadata": {
    "id": "70xTu0juGZ8B"
   }
  },
  {
   "cell_type": "code",
   "source": [
    "data.crs"
   ],
   "metadata": {
    "colab": {
     "base_uri": "https://localhost:8080/"
    },
    "id": "QE_StkLyGYvf",
    "outputId": "9a363bdb-5c66-4ab8-9e48-843b901da39e"
   },
   "execution_count": 5,
   "outputs": [
    {
     "data": {
      "text/plain": "<Geographic 2D CRS: EPSG:4326>\nName: WGS 84\nAxis Info [ellipsoidal]:\n- Lat[north]: Geodetic latitude (degree)\n- Lon[east]: Geodetic longitude (degree)\nArea of Use:\n- name: World.\n- bounds: (-180.0, -90.0, 180.0, 90.0)\nDatum: World Geodetic System 1984 ensemble\n- Ellipsoid: WGS 84\n- Prime Meridian: Greenwich"
     },
     "execution_count": 5,
     "metadata": {},
     "output_type": "execute_result"
    }
   ]
  },
  {
   "cell_type": "markdown",
   "source": [
    "## Shapefile 작성하기"
   ],
   "metadata": {
    "id": "BtD5jnEeHhAL"
   }
  },
  {
   "cell_type": "markdown",
   "source": [
    "Shapefile도 작성해서 만들 수 있다. 입력 데이터의 첫 번째 행 50개를 선택하고 인덱스 슬라이싱을 사용하여 먼저 데이터를 선택한 다음 gpd.to _fileds - 함수를 사용하여 선택 항목을 Shapefile에 쓰도록 하겠다."
   ],
   "metadata": {
    "id": "_KTiYSeAHX9i"
   }
  },
  {
   "cell_type": "code",
   "source": [
    "# 저장될 폴더 생성하기\n",
    "out = r\"Dataset/Lesson2/DAMSELFISH_distributions_selection.shp\"\n",
    "\n",
    "# 첫 번째 50개의 행 선택하기\n",
    "selection = data[0:50]\n",
    "\n",
    "# 이 행을 새로운 Shapefile로 만들기\n",
    "selection.to_file(out)\n",
    "\n",
    "# Geopandas를 이용해 만든 파일 읽기 \n",
    "data = gpd.read_file(out)\n",
    "data.head()"
   ],
   "metadata": {
    "colab": {
     "base_uri": "https://localhost:8080/",
     "height": 647
    },
    "id": "i8umUDsiHnLA",
    "outputId": "86c95080-15e0-4e53-d6c7-0c1bdc6d7d18"
   },
   "execution_count": 6,
   "outputs": [
    {
     "data": {
      "text/plain": "      ID_NO             BINOMIAL  ORIGIN COMPILER  YEAR  \\\n0  183963.0   Stegastes leucorus       1     IUCN  2010   \n1  183963.0   Stegastes leucorus       1     IUCN  2010   \n2  183963.0   Stegastes leucorus       1     IUCN  2010   \n3  183793.0  Chromis intercrusma       1     IUCN  2010   \n4  183793.0  Chromis intercrusma       1     IUCN  2010   \n\n                                            CITATION  SOURCE  DIST_COMM  \\\n0  International Union for Conservation of Nature...     NaN        NaN   \n1  International Union for Conservation of Nature...     NaN        NaN   \n2  International Union for Conservation of Nature...     NaN        NaN   \n3  International Union for Conservation of Nature...     NaN        NaN   \n4  International Union for Conservation of Nature...     NaN        NaN   \n\n   ISLAND  SUBSPECIES  ...  RL_UPDATE KINGDOM_NA  PHYLUM_NAM      CLASS_NAME  \\\n0     NaN         NaN  ...     2012.1   ANIMALIA    CHORDATA  ACTINOPTERYGII   \n1     NaN         NaN  ...     2012.1   ANIMALIA    CHORDATA  ACTINOPTERYGII   \n2     NaN         NaN  ...     2012.1   ANIMALIA    CHORDATA  ACTINOPTERYGII   \n3     NaN         NaN  ...     2012.1   ANIMALIA    CHORDATA  ACTINOPTERYGII   \n4     NaN         NaN  ...     2012.1   ANIMALIA    CHORDATA  ACTINOPTERYGII   \n\n    ORDER_NAME     FAMILY_NAM GENUS_NAME   SPECIES_NA CATEGORY  \\\n0  PERCIFORMES  POMACENTRIDAE  Stegastes     leucorus       VU   \n1  PERCIFORMES  POMACENTRIDAE  Stegastes     leucorus       VU   \n2  PERCIFORMES  POMACENTRIDAE  Stegastes     leucorus       VU   \n3  PERCIFORMES  POMACENTRIDAE    Chromis  intercrusma       LC   \n4  PERCIFORMES  POMACENTRIDAE    Chromis  intercrusma       LC   \n\n                                            geometry  \n0  POLYGON ((-115.64375 29.71392, -115.61585 29.6...  \n1  POLYGON ((-105.58995 21.89340, -105.56483 21.8...  \n2  POLYGON ((-111.15962 19.01536, -111.15948 18.9...  \n3  POLYGON ((-80.86500 -0.77894, -80.75930 -0.833...  \n4  POLYGON ((-67.33922 -55.67610, -67.33755 -55.6...  \n\n[5 rows x 24 columns]",
      "text/html": "<div>\n<style scoped>\n    .dataframe tbody tr th:only-of-type {\n        vertical-align: middle;\n    }\n\n    .dataframe tbody tr th {\n        vertical-align: top;\n    }\n\n    .dataframe thead th {\n        text-align: right;\n    }\n</style>\n<table border=\"1\" class=\"dataframe\">\n  <thead>\n    <tr style=\"text-align: right;\">\n      <th></th>\n      <th>ID_NO</th>\n      <th>BINOMIAL</th>\n      <th>ORIGIN</th>\n      <th>COMPILER</th>\n      <th>YEAR</th>\n      <th>CITATION</th>\n      <th>SOURCE</th>\n      <th>DIST_COMM</th>\n      <th>ISLAND</th>\n      <th>SUBSPECIES</th>\n      <th>...</th>\n      <th>RL_UPDATE</th>\n      <th>KINGDOM_NA</th>\n      <th>PHYLUM_NAM</th>\n      <th>CLASS_NAME</th>\n      <th>ORDER_NAME</th>\n      <th>FAMILY_NAM</th>\n      <th>GENUS_NAME</th>\n      <th>SPECIES_NA</th>\n      <th>CATEGORY</th>\n      <th>geometry</th>\n    </tr>\n  </thead>\n  <tbody>\n    <tr>\n      <th>0</th>\n      <td>183963.0</td>\n      <td>Stegastes leucorus</td>\n      <td>1</td>\n      <td>IUCN</td>\n      <td>2010</td>\n      <td>International Union for Conservation of Nature...</td>\n      <td>NaN</td>\n      <td>NaN</td>\n      <td>NaN</td>\n      <td>NaN</td>\n      <td>...</td>\n      <td>2012.1</td>\n      <td>ANIMALIA</td>\n      <td>CHORDATA</td>\n      <td>ACTINOPTERYGII</td>\n      <td>PERCIFORMES</td>\n      <td>POMACENTRIDAE</td>\n      <td>Stegastes</td>\n      <td>leucorus</td>\n      <td>VU</td>\n      <td>POLYGON ((-115.64375 29.71392, -115.61585 29.6...</td>\n    </tr>\n    <tr>\n      <th>1</th>\n      <td>183963.0</td>\n      <td>Stegastes leucorus</td>\n      <td>1</td>\n      <td>IUCN</td>\n      <td>2010</td>\n      <td>International Union for Conservation of Nature...</td>\n      <td>NaN</td>\n      <td>NaN</td>\n      <td>NaN</td>\n      <td>NaN</td>\n      <td>...</td>\n      <td>2012.1</td>\n      <td>ANIMALIA</td>\n      <td>CHORDATA</td>\n      <td>ACTINOPTERYGII</td>\n      <td>PERCIFORMES</td>\n      <td>POMACENTRIDAE</td>\n      <td>Stegastes</td>\n      <td>leucorus</td>\n      <td>VU</td>\n      <td>POLYGON ((-105.58995 21.89340, -105.56483 21.8...</td>\n    </tr>\n    <tr>\n      <th>2</th>\n      <td>183963.0</td>\n      <td>Stegastes leucorus</td>\n      <td>1</td>\n      <td>IUCN</td>\n      <td>2010</td>\n      <td>International Union for Conservation of Nature...</td>\n      <td>NaN</td>\n      <td>NaN</td>\n      <td>NaN</td>\n      <td>NaN</td>\n      <td>...</td>\n      <td>2012.1</td>\n      <td>ANIMALIA</td>\n      <td>CHORDATA</td>\n      <td>ACTINOPTERYGII</td>\n      <td>PERCIFORMES</td>\n      <td>POMACENTRIDAE</td>\n      <td>Stegastes</td>\n      <td>leucorus</td>\n      <td>VU</td>\n      <td>POLYGON ((-111.15962 19.01536, -111.15948 18.9...</td>\n    </tr>\n    <tr>\n      <th>3</th>\n      <td>183793.0</td>\n      <td>Chromis intercrusma</td>\n      <td>1</td>\n      <td>IUCN</td>\n      <td>2010</td>\n      <td>International Union for Conservation of Nature...</td>\n      <td>NaN</td>\n      <td>NaN</td>\n      <td>NaN</td>\n      <td>NaN</td>\n      <td>...</td>\n      <td>2012.1</td>\n      <td>ANIMALIA</td>\n      <td>CHORDATA</td>\n      <td>ACTINOPTERYGII</td>\n      <td>PERCIFORMES</td>\n      <td>POMACENTRIDAE</td>\n      <td>Chromis</td>\n      <td>intercrusma</td>\n      <td>LC</td>\n      <td>POLYGON ((-80.86500 -0.77894, -80.75930 -0.833...</td>\n    </tr>\n    <tr>\n      <th>4</th>\n      <td>183793.0</td>\n      <td>Chromis intercrusma</td>\n      <td>1</td>\n      <td>IUCN</td>\n      <td>2010</td>\n      <td>International Union for Conservation of Nature...</td>\n      <td>NaN</td>\n      <td>NaN</td>\n      <td>NaN</td>\n      <td>NaN</td>\n      <td>...</td>\n      <td>2012.1</td>\n      <td>ANIMALIA</td>\n      <td>CHORDATA</td>\n      <td>ACTINOPTERYGII</td>\n      <td>PERCIFORMES</td>\n      <td>POMACENTRIDAE</td>\n      <td>Chromis</td>\n      <td>intercrusma</td>\n      <td>LC</td>\n      <td>POLYGON ((-67.33922 -55.67610, -67.33755 -55.6...</td>\n    </tr>\n  </tbody>\n</table>\n<p>5 rows × 24 columns</p>\n</div>"
     },
     "execution_count": 6,
     "metadata": {},
     "output_type": "execute_result"
    }
   ]
  },
  {
   "cell_type": "markdown",
   "source": [
    "## Geometries 객체 다루기\n"
   ],
   "metadata": {
    "id": "r9YItP9FEPJf"
   }
  },
  {
   "cell_type": "markdown",
   "source": [
    "Geopandas는 Shapely의 geometric 객체를 이용한다. Geometries는 geometry라는 한 열에 저장되는데, 이것은 geometric 정보를 geopandas에 저장하기 위한 기본 열 이름이다.\n"
   ],
   "metadata": {
    "id": "wBlrYHPSIJsq"
   }
  },
  {
   "cell_type": "code",
   "source": [
    "data[\"geometry\"].head()"
   ],
   "metadata": {
    "colab": {
     "base_uri": "https://localhost:8080/"
    },
    "id": "KnxKvH5JIitF",
    "outputId": "401f214f-463b-46a1-96e1-f666b459b37a"
   },
   "execution_count": 7,
   "outputs": [
    {
     "data": {
      "text/plain": "0    POLYGON ((-115.64375 29.71392, -115.61585 29.6...\n1    POLYGON ((-105.58995 21.89340, -105.56483 21.8...\n2    POLYGON ((-111.15962 19.01536, -111.15948 18.9...\n3    POLYGON ((-80.86500 -0.77894, -80.75930 -0.833...\n4    POLYGON ((-67.33922 -55.67610, -67.33755 -55.6...\nName: geometry, dtype: geometry"
     },
     "execution_count": 7,
     "metadata": {},
     "output_type": "execute_result"
    }
   ]
  },
  {
   "cell_type": "markdown",
   "source": [
    "공간데이터가 Shapely 객체로 저장되기 때문에, 모듈의 기능들을 사용할 수 있는 것이다. "
   ],
   "metadata": {
    "id": "PQsjpQz8IoUO"
   }
  },
  {
   "cell_type": "code",
   "source": [
    "# 첫 번째 5개 행만 추출하기\n",
    "selection = data[0:5]\n",
    "selection"
   ],
   "metadata": {
    "colab": {
     "base_uri": "https://localhost:8080/",
     "height": 647
    },
    "id": "oGJPEn8tI2Hj",
    "outputId": "741fe3e4-15d6-45fc-c7dd-6ca8053eb9af"
   },
   "execution_count": 8,
   "outputs": [
    {
     "data": {
      "text/plain": "      ID_NO             BINOMIAL  ORIGIN COMPILER  YEAR  \\\n0  183963.0   Stegastes leucorus       1     IUCN  2010   \n1  183963.0   Stegastes leucorus       1     IUCN  2010   \n2  183963.0   Stegastes leucorus       1     IUCN  2010   \n3  183793.0  Chromis intercrusma       1     IUCN  2010   \n4  183793.0  Chromis intercrusma       1     IUCN  2010   \n\n                                            CITATION  SOURCE  DIST_COMM  \\\n0  International Union for Conservation of Nature...     NaN        NaN   \n1  International Union for Conservation of Nature...     NaN        NaN   \n2  International Union for Conservation of Nature...     NaN        NaN   \n3  International Union for Conservation of Nature...     NaN        NaN   \n4  International Union for Conservation of Nature...     NaN        NaN   \n\n   ISLAND  SUBSPECIES  ...  RL_UPDATE KINGDOM_NA  PHYLUM_NAM      CLASS_NAME  \\\n0     NaN         NaN  ...     2012.1   ANIMALIA    CHORDATA  ACTINOPTERYGII   \n1     NaN         NaN  ...     2012.1   ANIMALIA    CHORDATA  ACTINOPTERYGII   \n2     NaN         NaN  ...     2012.1   ANIMALIA    CHORDATA  ACTINOPTERYGII   \n3     NaN         NaN  ...     2012.1   ANIMALIA    CHORDATA  ACTINOPTERYGII   \n4     NaN         NaN  ...     2012.1   ANIMALIA    CHORDATA  ACTINOPTERYGII   \n\n    ORDER_NAME     FAMILY_NAM GENUS_NAME   SPECIES_NA CATEGORY  \\\n0  PERCIFORMES  POMACENTRIDAE  Stegastes     leucorus       VU   \n1  PERCIFORMES  POMACENTRIDAE  Stegastes     leucorus       VU   \n2  PERCIFORMES  POMACENTRIDAE  Stegastes     leucorus       VU   \n3  PERCIFORMES  POMACENTRIDAE    Chromis  intercrusma       LC   \n4  PERCIFORMES  POMACENTRIDAE    Chromis  intercrusma       LC   \n\n                                            geometry  \n0  POLYGON ((-115.64375 29.71392, -115.61585 29.6...  \n1  POLYGON ((-105.58995 21.89340, -105.56483 21.8...  \n2  POLYGON ((-111.15962 19.01536, -111.15948 18.9...  \n3  POLYGON ((-80.86500 -0.77894, -80.75930 -0.833...  \n4  POLYGON ((-67.33922 -55.67610, -67.33755 -55.6...  \n\n[5 rows x 24 columns]",
      "text/html": "<div>\n<style scoped>\n    .dataframe tbody tr th:only-of-type {\n        vertical-align: middle;\n    }\n\n    .dataframe tbody tr th {\n        vertical-align: top;\n    }\n\n    .dataframe thead th {\n        text-align: right;\n    }\n</style>\n<table border=\"1\" class=\"dataframe\">\n  <thead>\n    <tr style=\"text-align: right;\">\n      <th></th>\n      <th>ID_NO</th>\n      <th>BINOMIAL</th>\n      <th>ORIGIN</th>\n      <th>COMPILER</th>\n      <th>YEAR</th>\n      <th>CITATION</th>\n      <th>SOURCE</th>\n      <th>DIST_COMM</th>\n      <th>ISLAND</th>\n      <th>SUBSPECIES</th>\n      <th>...</th>\n      <th>RL_UPDATE</th>\n      <th>KINGDOM_NA</th>\n      <th>PHYLUM_NAM</th>\n      <th>CLASS_NAME</th>\n      <th>ORDER_NAME</th>\n      <th>FAMILY_NAM</th>\n      <th>GENUS_NAME</th>\n      <th>SPECIES_NA</th>\n      <th>CATEGORY</th>\n      <th>geometry</th>\n    </tr>\n  </thead>\n  <tbody>\n    <tr>\n      <th>0</th>\n      <td>183963.0</td>\n      <td>Stegastes leucorus</td>\n      <td>1</td>\n      <td>IUCN</td>\n      <td>2010</td>\n      <td>International Union for Conservation of Nature...</td>\n      <td>NaN</td>\n      <td>NaN</td>\n      <td>NaN</td>\n      <td>NaN</td>\n      <td>...</td>\n      <td>2012.1</td>\n      <td>ANIMALIA</td>\n      <td>CHORDATA</td>\n      <td>ACTINOPTERYGII</td>\n      <td>PERCIFORMES</td>\n      <td>POMACENTRIDAE</td>\n      <td>Stegastes</td>\n      <td>leucorus</td>\n      <td>VU</td>\n      <td>POLYGON ((-115.64375 29.71392, -115.61585 29.6...</td>\n    </tr>\n    <tr>\n      <th>1</th>\n      <td>183963.0</td>\n      <td>Stegastes leucorus</td>\n      <td>1</td>\n      <td>IUCN</td>\n      <td>2010</td>\n      <td>International Union for Conservation of Nature...</td>\n      <td>NaN</td>\n      <td>NaN</td>\n      <td>NaN</td>\n      <td>NaN</td>\n      <td>...</td>\n      <td>2012.1</td>\n      <td>ANIMALIA</td>\n      <td>CHORDATA</td>\n      <td>ACTINOPTERYGII</td>\n      <td>PERCIFORMES</td>\n      <td>POMACENTRIDAE</td>\n      <td>Stegastes</td>\n      <td>leucorus</td>\n      <td>VU</td>\n      <td>POLYGON ((-105.58995 21.89340, -105.56483 21.8...</td>\n    </tr>\n    <tr>\n      <th>2</th>\n      <td>183963.0</td>\n      <td>Stegastes leucorus</td>\n      <td>1</td>\n      <td>IUCN</td>\n      <td>2010</td>\n      <td>International Union for Conservation of Nature...</td>\n      <td>NaN</td>\n      <td>NaN</td>\n      <td>NaN</td>\n      <td>NaN</td>\n      <td>...</td>\n      <td>2012.1</td>\n      <td>ANIMALIA</td>\n      <td>CHORDATA</td>\n      <td>ACTINOPTERYGII</td>\n      <td>PERCIFORMES</td>\n      <td>POMACENTRIDAE</td>\n      <td>Stegastes</td>\n      <td>leucorus</td>\n      <td>VU</td>\n      <td>POLYGON ((-111.15962 19.01536, -111.15948 18.9...</td>\n    </tr>\n    <tr>\n      <th>3</th>\n      <td>183793.0</td>\n      <td>Chromis intercrusma</td>\n      <td>1</td>\n      <td>IUCN</td>\n      <td>2010</td>\n      <td>International Union for Conservation of Nature...</td>\n      <td>NaN</td>\n      <td>NaN</td>\n      <td>NaN</td>\n      <td>NaN</td>\n      <td>...</td>\n      <td>2012.1</td>\n      <td>ANIMALIA</td>\n      <td>CHORDATA</td>\n      <td>ACTINOPTERYGII</td>\n      <td>PERCIFORMES</td>\n      <td>POMACENTRIDAE</td>\n      <td>Chromis</td>\n      <td>intercrusma</td>\n      <td>LC</td>\n      <td>POLYGON ((-80.86500 -0.77894, -80.75930 -0.833...</td>\n    </tr>\n    <tr>\n      <th>4</th>\n      <td>183793.0</td>\n      <td>Chromis intercrusma</td>\n      <td>1</td>\n      <td>IUCN</td>\n      <td>2010</td>\n      <td>International Union for Conservation of Nature...</td>\n      <td>NaN</td>\n      <td>NaN</td>\n      <td>NaN</td>\n      <td>NaN</td>\n      <td>...</td>\n      <td>2012.1</td>\n      <td>ANIMALIA</td>\n      <td>CHORDATA</td>\n      <td>ACTINOPTERYGII</td>\n      <td>PERCIFORMES</td>\n      <td>POMACENTRIDAE</td>\n      <td>Chromis</td>\n      <td>intercrusma</td>\n      <td>LC</td>\n      <td>POLYGON ((-67.33922 -55.67610, -67.33755 -55.6...</td>\n    </tr>\n  </tbody>\n</table>\n<p>5 rows × 24 columns</p>\n</div>"
     },
     "execution_count": 8,
     "metadata": {},
     "output_type": "execute_result"
    }
   ]
  },
  {
   "cell_type": "markdown",
   "source": [
    ".iterrows() - 함수를 사용하여 선택한 행에 대해 반복할 수도 있다."
   ],
   "metadata": {
    "id": "Jfeo9jz0JGYH"
   }
  },
  {
   "cell_type": "code",
   "source": [
    "for index, row in selection.iterrows():\n",
    "  poly_area = row[\"geometry\"].area\n",
    "  print(\"Polygon area at index {0} is: {1:.3f}\".format(index, poly_area))"
   ],
   "metadata": {
    "colab": {
     "base_uri": "https://localhost:8080/"
    },
    "id": "xBHrA0jfI-Bh",
    "outputId": "20061474-3631-4ee0-fac5-f707aa10cf4f"
   },
   "execution_count": 9,
   "outputs": [
    {
     "name": "stdout",
     "output_type": "stream",
     "text": [
      "Polygon area at index 0 is: 19.396\n",
      "Polygon area at index 1 is: 6.146\n",
      "Polygon area at index 2 is: 2.697\n",
      "Polygon area at index 3 is: 87.461\n",
      "Polygon area at index 4 is: 0.001\n"
     ]
    }
   ]
  },
  {
   "cell_type": "markdown",
   "source": [
    "GeoDataFrame에 새 열을 생성하여 영역을 개별 다각형으로 계산하고 저장해보자."
   ],
   "metadata": {
    "id": "fillMSkPJMcr"
   }
  },
  {
   "cell_type": "code",
   "source": [
    "# 빈 열 생성\n",
    "data[\"area\"] = None\n",
    "\n",
    "# 행을 반복해서 영역 계산하기\n",
    "for index, row in data.iterrows():\n",
    "    data.loc[index, \"area\"] = row[\"geometry\"].area\n",
    "\n",
    "# 열 확인하기\n",
    "data[\"area\"].head(2)"
   ],
   "metadata": {
    "colab": {
     "base_uri": "https://localhost:8080/"
    },
    "id": "e5u48EYfJPZf",
    "outputId": "4ccc9e8d-95b2-403d-de94-0339a967fb9c"
   },
   "execution_count": 10,
   "outputs": [
    {
     "data": {
      "text/plain": "0    19.396254\n1     6.145902\nName: area, dtype: object"
     },
     "execution_count": 10,
     "metadata": {},
     "output_type": "execute_result"
    }
   ]
  },
  {
   "cell_type": "markdown",
   "source": [
    "numpy를 이용해서 해당 영역의 최소값과 최대값을 확인해보자."
   ],
   "metadata": {
    "id": "7eRerukDJlps"
   }
  },
  {
   "cell_type": "code",
   "source": [
    "# 최대값\n",
    "max_area = data[\"area\"].max()\n",
    "# 최소값\n",
    "min_area = data[\"area\"].mean()\n",
    "\n",
    "print(\"Max area: %s\\nMean area: %s\" % (round(max_area, 2), round(min_area, 2)))"
   ],
   "metadata": {
    "colab": {
     "base_uri": "https://localhost:8080/"
    },
    "id": "M0Nz9XllJoKp",
    "outputId": "e23dbaa4-b0e2-4a75-e0e9-727674e343ed"
   },
   "execution_count": 11,
   "outputs": [
    {
     "name": "stdout",
     "output_type": "stream",
     "text": [
      "Max area: 113.24\n",
      "Mean area: 12.52\n"
     ]
    }
   ]
  },
  {
   "cell_type": "markdown",
   "source": [
    "## GeoDataFrame으로 Geometries 만들기\n",
    "Geopandas는 Shapely의 기하학적(geometric)인 객체를 활용하므로 이를 GeoDataFrame에 전달하여 처음부터 Shapefile을 만들 수 있다. 좌표가 포함된 텍스트 파일을 Shapefile로 쉽게 변환할 수 있으므로 유용하다."
   ],
   "metadata": {
    "id": "kHSeQvsBEQJS"
   }
  },
  {
   "cell_type": "code",
   "source": [
    "import pandas as pd\n",
    "import geopandas as gpd\n",
    "from shapely.geometry import Point, Polygon\n",
    "import fiona\n",
    "\n",
    "# \u001D새로운 GeoDataFrame 만들기\n",
    "newdata = gpd.GeoDataFrame()\n",
    "\n",
    "# 전북대학교 좌표\n",
    "coordinates = [(35.852732, 127.127619), (35.850464, 127.135362), (35.848271, 127.136621), (35.849481, 127.145203), (35.847137, 127.145996), (35.841126, 127.132190), (35.847024, 127.123189), (35.852344, 127.124224)]\n",
    "\n",
    "# Shapely polygon 생성하기\n",
    "poly = Polygon(coordinates)\n",
    "poly"
   ],
   "metadata": {
    "colab": {
     "base_uri": "https://localhost:8080/",
     "height": 122
    },
    "id": "MxonZUd2KVCO",
    "outputId": "b627488a-c34f-45d6-dfb9-83abd012b0c1"
   },
   "execution_count": 12,
   "outputs": [
    {
     "data": {
      "text/plain": "<POLYGON ((35.853 127.128, 35.85 127.135, 35.848 127.137, 35.849 127.145, 35...>",
      "image/svg+xml": "<svg xmlns=\"http://www.w3.org/2000/svg\" xmlns:xlink=\"http://www.w3.org/1999/xlink\" width=\"100.0\" height=\"100.0\" viewBox=\"35.84021372 127.12227672 0.013430560000003311 0.024631559999988895\" preserveAspectRatio=\"xMinYMin meet\"><g transform=\"matrix(1,0,0,-1,0,254.269185)\"><path fill-rule=\"evenodd\" fill=\"#66cc99\" stroke=\"#555555\" stroke-width=\"0.0004926311999997779\" opacity=\"0.6\" d=\"M 35.852732,127.127619 L 35.850464,127.135362 L 35.848271,127.136621 L 35.849481,127.145203 L 35.847137,127.145996 L 35.841126,127.13219 L 35.847024,127.123189 L 35.852344,127.124224 L 35.852732,127.127619 z\" /></g></svg>"
     },
     "execution_count": 12,
     "metadata": {},
     "output_type": "execute_result"
    }
   ]
  },
  {
   "cell_type": "code",
   "source": [
    "# 폴리곤을 \"geometry\"열에 넣기\n",
    "newdata.loc[0, \"geometry\"] = poly\n",
    "newdata"
   ],
   "metadata": {
    "colab": {
     "base_uri": "https://localhost:8080/",
     "height": 81
    },
    "id": "7qbEbhvcNUY_",
    "outputId": "d815a9f6-0bf3-4664-cae9-099a1a9c444c"
   },
   "execution_count": 13,
   "outputs": [
    {
     "data": {
      "text/plain": "                                            geometry\n0  POLYGON ((35.853 127.128, 35.850 127.135, 35.8...",
      "text/html": "<div>\n<style scoped>\n    .dataframe tbody tr th:only-of-type {\n        vertical-align: middle;\n    }\n\n    .dataframe tbody tr th {\n        vertical-align: top;\n    }\n\n    .dataframe thead th {\n        text-align: right;\n    }\n</style>\n<table border=\"1\" class=\"dataframe\">\n  <thead>\n    <tr style=\"text-align: right;\">\n      <th></th>\n      <th>geometry</th>\n    </tr>\n  </thead>\n  <tbody>\n    <tr>\n      <th>0</th>\n      <td>POLYGON ((35.853 127.128, 35.850 127.135, 35.8...</td>\n    </tr>\n  </tbody>\n</table>\n</div>"
     },
     "execution_count": 13,
     "metadata": {},
     "output_type": "execute_result"
    }
   ]
  },
  {
   "cell_type": "code",
   "source": [
    "# 위치 이름 추가하기\n",
    "newdata.loc[0, \"Location\"] = \"\bJeonbukUniversity\"\n",
    "newdata"
   ],
   "metadata": {
    "colab": {
     "base_uri": "https://localhost:8080/",
     "height": 81
    },
    "id": "8cqvSMv6Nj7w",
    "outputId": "7f423991-d876-442e-8bae-0863a8267f60"
   },
   "execution_count": 14,
   "outputs": [
    {
     "data": {
      "text/plain": "                                            geometry            Location\n0  POLYGON ((35.853 127.128, 35.850 127.135, 35.8...  \bJeonbukUniversity",
      "text/html": "<div>\n<style scoped>\n    .dataframe tbody tr th:only-of-type {\n        vertical-align: middle;\n    }\n\n    .dataframe tbody tr th {\n        vertical-align: top;\n    }\n\n    .dataframe thead th {\n        text-align: right;\n    }\n</style>\n<table border=\"1\" class=\"dataframe\">\n  <thead>\n    <tr style=\"text-align: right;\">\n      <th></th>\n      <th>geometry</th>\n      <th>Location</th>\n    </tr>\n  </thead>\n  <tbody>\n    <tr>\n      <th>0</th>\n      <td>POLYGON ((35.853 127.128, 35.850 127.135, 35.8...</td>\n      <td>\bJeonbukUniversity</td>\n    </tr>\n  </tbody>\n</table>\n</div>"
     },
     "execution_count": 14,
     "metadata": {},
     "output_type": "execute_result"
    }
   ]
  },
  {
   "cell_type": "code",
   "source": [
    "newdata.crs"
   ],
   "metadata": {
    "id": "2O5NeJSJOBRn"
   },
   "execution_count": 15,
   "outputs": []
  },
  {
   "cell_type": "markdown",
   "source": [
    "아직은 데이터에 대한 정보가 없다. GeoDataFrame에 CRS를 추가해보자. fiona라는 Python 모듈에는 GeoDataFrame의 좌표계를 전달하기 위한 from_epsg()라는 함수가 있다. 이를 사용하여 WGS84(epsg 코드: 4326)라고 설정해준다."
   ],
   "metadata": {
    "id": "1abPgItgNwav"
   }
  },
  {
   "cell_type": "code",
   "source": [
    "from fiona.crs import from_epsg\n",
    "\n",
    "newdata.crs = from_epsg(4326)\n",
    "newdata.crs"
   ],
   "metadata": {
    "colab": {
     "base_uri": "https://localhost:8080/"
    },
    "id": "9k_nLCqIN8AX",
    "outputId": "e1003dad-1f01-4bad-8017-380e7b223db6"
   },
   "execution_count": 16,
   "outputs": [
    {
     "data": {
      "text/plain": "<Geographic 2D CRS: EPSG:4326>\nName: WGS 84\nAxis Info [ellipsoidal]:\n- Lat[north]: Geodetic latitude (degree)\n- Lon[east]: Geodetic longitude (degree)\nArea of Use:\n- undefined\nDatum: World Geodetic System 1984\n- Ellipsoid: WGS 84\n- Prime Meridian: Greenwich"
     },
     "execution_count": 16,
     "metadata": {},
     "output_type": "execute_result"
    }
   ]
  },
  {
   "cell_type": "code",
   "source": [
    "# 저장하기\n",
    "out = r\"Dataset/Lesson2/Jeonbuknationaluniversity.shp\"\n",
    "newdata.to_file(out)"
   ],
   "metadata": {
    "id": "mKFL5EfjOLTi"
   },
   "execution_count": 17,
   "outputs": []
  },
  {
   "cell_type": "markdown",
   "source": [
    "## Pro -tips (선택적 팁)\n",
    "Pandas/Geopandas에서 사용할 수 있는 정말 유용한 기능 중 하나는 groupby()이다. 이 함수는 선택한 열의 값을 기준으로 데이터를 그룹화한다.<br/>\n",
    "DAMSELFISH_distribution.shp을 개별적 그룹으로 나누고 개별 shapefile로 만들어보자.\n"
   ],
   "metadata": {
    "id": "9T-GHiZeERJY"
   }
  },
  {
   "cell_type": "code",
   "source": [
    "# \"\bBINOMIAL\"열을 기준으로 데이터를 묶기\n",
    "fp = \"Dataset/Lesson2/DAMSELFISH_distributions.shp\"\n",
    "data = gpd.read_file(fp)\n",
    "grouped = data.groupby(\"BINOMIAL\")\n",
    "grouped"
   ],
   "metadata": {
    "colab": {
     "base_uri": "https://localhost:8080/"
    },
    "id": "vKOXwxIJPKfi",
    "outputId": "60d79128-233d-4294-b177-55de3023ad99"
   },
   "execution_count": 18,
   "outputs": [
    {
     "data": {
      "text/plain": "<pandas.core.groupby.generic.DataFrameGroupBy object at 0x1031f9430>"
     },
     "execution_count": 18,
     "metadata": {},
     "output_type": "execute_result"
    }
   ]
  },
  {
   "cell_type": "code",
   "source": [
    "# 그룹에 대해 반복하기\n",
    "for key, values in grouped:\n",
    "  individual_fish = values\n",
    "individual_fish"
   ],
   "metadata": {
    "colab": {
     "base_uri": "https://localhost:8080/",
     "height": 970
    },
    "id": "BrdALzq8PqVC",
    "outputId": "db25254a-91a0-49d8-a676-1f8d21f452fb"
   },
   "execution_count": 19,
   "outputs": [
    {
     "data": {
      "text/plain": "       ID_NO                BINOMIAL  ORIGIN COMPILER  YEAR  \\\n27  154915.0  Teixeirichthys jordani       1      NaN  2012   \n28  154915.0  Teixeirichthys jordani       1      NaN  2012   \n29  154915.0  Teixeirichthys jordani       1      NaN  2012   \n30  154915.0  Teixeirichthys jordani       1      NaN  2012   \n31  154915.0  Teixeirichthys jordani       1      NaN  2012   \n32  154915.0  Teixeirichthys jordani       1      NaN  2012   \n33  154915.0  Teixeirichthys jordani       1      NaN  2012   \n\n                                             CITATION  SOURCE  DIST_COMM  \\\n27  Red List Index (Sampled Approach), Zoological ...     NaN        NaN   \n28  Red List Index (Sampled Approach), Zoological ...     NaN        NaN   \n29  Red List Index (Sampled Approach), Zoological ...     NaN        NaN   \n30  Red List Index (Sampled Approach), Zoological ...     NaN        NaN   \n31  Red List Index (Sampled Approach), Zoological ...     NaN        NaN   \n32  Red List Index (Sampled Approach), Zoological ...     NaN        NaN   \n33  Red List Index (Sampled Approach), Zoological ...     NaN        NaN   \n\n    ISLAND  SUBSPECIES  ...  RL_UPDATE KINGDOM_NA  PHYLUM_NAM      CLASS_NAME  \\\n27     NaN         NaN  ...     2012.2   ANIMALIA    CHORDATA  ACTINOPTERYGII   \n28     NaN         NaN  ...     2012.2   ANIMALIA    CHORDATA  ACTINOPTERYGII   \n29     NaN         NaN  ...     2012.2   ANIMALIA    CHORDATA  ACTINOPTERYGII   \n30     NaN         NaN  ...     2012.2   ANIMALIA    CHORDATA  ACTINOPTERYGII   \n31     NaN         NaN  ...     2012.2   ANIMALIA    CHORDATA  ACTINOPTERYGII   \n32     NaN         NaN  ...     2012.2   ANIMALIA    CHORDATA  ACTINOPTERYGII   \n33     NaN         NaN  ...     2012.2   ANIMALIA    CHORDATA  ACTINOPTERYGII   \n\n     ORDER_NAME     FAMILY_NAM      GENUS_NAME SPECIES_NA CATEGORY  \\\n27  PERCIFORMES  POMACENTRIDAE  Teixeirichthys    jordani       LC   \n28  PERCIFORMES  POMACENTRIDAE  Teixeirichthys    jordani       LC   \n29  PERCIFORMES  POMACENTRIDAE  Teixeirichthys    jordani       LC   \n30  PERCIFORMES  POMACENTRIDAE  Teixeirichthys    jordani       LC   \n31  PERCIFORMES  POMACENTRIDAE  Teixeirichthys    jordani       LC   \n32  PERCIFORMES  POMACENTRIDAE  Teixeirichthys    jordani       LC   \n33  PERCIFORMES  POMACENTRIDAE  Teixeirichthys    jordani       LC   \n\n                                             geometry  \n27  POLYGON ((121.63003 33.04249, 121.63219 33.042...  \n28  POLYGON ((32.56219 29.97489, 32.56497 29.96967...  \n29  POLYGON ((130.90521 34.02498, 130.90710 34.022...  \n30  POLYGON ((56.32233 -3.70727, 56.32294 -3.70872...  \n31  POLYGON ((40.64476 -10.85502, 40.64600 -10.855...  \n32  POLYGON ((48.11258 -9.33510, 48.11406 -9.33614...  \n33  POLYGON ((51.75404 -9.21679, 51.75532 -9.21879...  \n\n[7 rows x 24 columns]",
      "text/html": "<div>\n<style scoped>\n    .dataframe tbody tr th:only-of-type {\n        vertical-align: middle;\n    }\n\n    .dataframe tbody tr th {\n        vertical-align: top;\n    }\n\n    .dataframe thead th {\n        text-align: right;\n    }\n</style>\n<table border=\"1\" class=\"dataframe\">\n  <thead>\n    <tr style=\"text-align: right;\">\n      <th></th>\n      <th>ID_NO</th>\n      <th>BINOMIAL</th>\n      <th>ORIGIN</th>\n      <th>COMPILER</th>\n      <th>YEAR</th>\n      <th>CITATION</th>\n      <th>SOURCE</th>\n      <th>DIST_COMM</th>\n      <th>ISLAND</th>\n      <th>SUBSPECIES</th>\n      <th>...</th>\n      <th>RL_UPDATE</th>\n      <th>KINGDOM_NA</th>\n      <th>PHYLUM_NAM</th>\n      <th>CLASS_NAME</th>\n      <th>ORDER_NAME</th>\n      <th>FAMILY_NAM</th>\n      <th>GENUS_NAME</th>\n      <th>SPECIES_NA</th>\n      <th>CATEGORY</th>\n      <th>geometry</th>\n    </tr>\n  </thead>\n  <tbody>\n    <tr>\n      <th>27</th>\n      <td>154915.0</td>\n      <td>Teixeirichthys jordani</td>\n      <td>1</td>\n      <td>NaN</td>\n      <td>2012</td>\n      <td>Red List Index (Sampled Approach), Zoological ...</td>\n      <td>NaN</td>\n      <td>NaN</td>\n      <td>NaN</td>\n      <td>NaN</td>\n      <td>...</td>\n      <td>2012.2</td>\n      <td>ANIMALIA</td>\n      <td>CHORDATA</td>\n      <td>ACTINOPTERYGII</td>\n      <td>PERCIFORMES</td>\n      <td>POMACENTRIDAE</td>\n      <td>Teixeirichthys</td>\n      <td>jordani</td>\n      <td>LC</td>\n      <td>POLYGON ((121.63003 33.04249, 121.63219 33.042...</td>\n    </tr>\n    <tr>\n      <th>28</th>\n      <td>154915.0</td>\n      <td>Teixeirichthys jordani</td>\n      <td>1</td>\n      <td>NaN</td>\n      <td>2012</td>\n      <td>Red List Index (Sampled Approach), Zoological ...</td>\n      <td>NaN</td>\n      <td>NaN</td>\n      <td>NaN</td>\n      <td>NaN</td>\n      <td>...</td>\n      <td>2012.2</td>\n      <td>ANIMALIA</td>\n      <td>CHORDATA</td>\n      <td>ACTINOPTERYGII</td>\n      <td>PERCIFORMES</td>\n      <td>POMACENTRIDAE</td>\n      <td>Teixeirichthys</td>\n      <td>jordani</td>\n      <td>LC</td>\n      <td>POLYGON ((32.56219 29.97489, 32.56497 29.96967...</td>\n    </tr>\n    <tr>\n      <th>29</th>\n      <td>154915.0</td>\n      <td>Teixeirichthys jordani</td>\n      <td>1</td>\n      <td>NaN</td>\n      <td>2012</td>\n      <td>Red List Index (Sampled Approach), Zoological ...</td>\n      <td>NaN</td>\n      <td>NaN</td>\n      <td>NaN</td>\n      <td>NaN</td>\n      <td>...</td>\n      <td>2012.2</td>\n      <td>ANIMALIA</td>\n      <td>CHORDATA</td>\n      <td>ACTINOPTERYGII</td>\n      <td>PERCIFORMES</td>\n      <td>POMACENTRIDAE</td>\n      <td>Teixeirichthys</td>\n      <td>jordani</td>\n      <td>LC</td>\n      <td>POLYGON ((130.90521 34.02498, 130.90710 34.022...</td>\n    </tr>\n    <tr>\n      <th>30</th>\n      <td>154915.0</td>\n      <td>Teixeirichthys jordani</td>\n      <td>1</td>\n      <td>NaN</td>\n      <td>2012</td>\n      <td>Red List Index (Sampled Approach), Zoological ...</td>\n      <td>NaN</td>\n      <td>NaN</td>\n      <td>NaN</td>\n      <td>NaN</td>\n      <td>...</td>\n      <td>2012.2</td>\n      <td>ANIMALIA</td>\n      <td>CHORDATA</td>\n      <td>ACTINOPTERYGII</td>\n      <td>PERCIFORMES</td>\n      <td>POMACENTRIDAE</td>\n      <td>Teixeirichthys</td>\n      <td>jordani</td>\n      <td>LC</td>\n      <td>POLYGON ((56.32233 -3.70727, 56.32294 -3.70872...</td>\n    </tr>\n    <tr>\n      <th>31</th>\n      <td>154915.0</td>\n      <td>Teixeirichthys jordani</td>\n      <td>1</td>\n      <td>NaN</td>\n      <td>2012</td>\n      <td>Red List Index (Sampled Approach), Zoological ...</td>\n      <td>NaN</td>\n      <td>NaN</td>\n      <td>NaN</td>\n      <td>NaN</td>\n      <td>...</td>\n      <td>2012.2</td>\n      <td>ANIMALIA</td>\n      <td>CHORDATA</td>\n      <td>ACTINOPTERYGII</td>\n      <td>PERCIFORMES</td>\n      <td>POMACENTRIDAE</td>\n      <td>Teixeirichthys</td>\n      <td>jordani</td>\n      <td>LC</td>\n      <td>POLYGON ((40.64476 -10.85502, 40.64600 -10.855...</td>\n    </tr>\n    <tr>\n      <th>32</th>\n      <td>154915.0</td>\n      <td>Teixeirichthys jordani</td>\n      <td>1</td>\n      <td>NaN</td>\n      <td>2012</td>\n      <td>Red List Index (Sampled Approach), Zoological ...</td>\n      <td>NaN</td>\n      <td>NaN</td>\n      <td>NaN</td>\n      <td>NaN</td>\n      <td>...</td>\n      <td>2012.2</td>\n      <td>ANIMALIA</td>\n      <td>CHORDATA</td>\n      <td>ACTINOPTERYGII</td>\n      <td>PERCIFORMES</td>\n      <td>POMACENTRIDAE</td>\n      <td>Teixeirichthys</td>\n      <td>jordani</td>\n      <td>LC</td>\n      <td>POLYGON ((48.11258 -9.33510, 48.11406 -9.33614...</td>\n    </tr>\n    <tr>\n      <th>33</th>\n      <td>154915.0</td>\n      <td>Teixeirichthys jordani</td>\n      <td>1</td>\n      <td>NaN</td>\n      <td>2012</td>\n      <td>Red List Index (Sampled Approach), Zoological ...</td>\n      <td>NaN</td>\n      <td>NaN</td>\n      <td>NaN</td>\n      <td>NaN</td>\n      <td>...</td>\n      <td>2012.2</td>\n      <td>ANIMALIA</td>\n      <td>CHORDATA</td>\n      <td>ACTINOPTERYGII</td>\n      <td>PERCIFORMES</td>\n      <td>POMACENTRIDAE</td>\n      <td>Teixeirichthys</td>\n      <td>jordani</td>\n      <td>LC</td>\n      <td>POLYGON ((51.75404 -9.21679, 51.75532 -9.21879...</td>\n    </tr>\n  </tbody>\n</table>\n<p>7 rows × 24 columns</p>\n</div>"
     },
     "execution_count": 19,
     "metadata": {},
     "output_type": "execute_result"
    }
   ]
  },
  {
   "cell_type": "markdown",
   "source": [
    "위 처럼, 이제 각 데이터 세트가 별도의 GeoDataFrames로 그룹화되어 출력 파일 경로 이름을 만드는 변수 키를 사용하여 Shape 파일로 내보낼 수 있다. 이제 이러한 종을 개별 Shape 파일로 내보내자."
   ],
   "metadata": {
    "id": "pr_kq8wcP4Vo"
   }
  },
  {
   "cell_type": "code",
   "source": [
    "import os\n",
    "\n",
    "# 파일경로 설정하기\n",
    "outFolder = r\"Dataset/Lesson2/\"\n",
    "\n",
    "# 결과 파일 생성하기 (os를 이용해 폴더가 만들어져있다면 이 경로에, 없다면 만들도록 함)\n",
    "resultFolder = os.path.join(outFolder, \"Results\")\n",
    "if not os.path.exists(resultFolder):\n",
    "    os.makedirs(resultFolder)\n",
    "\n",
    "for key, values in grouped:\n",
    "    # 파일이름 포맷팅\n",
    "    outName = \"%s.shp\" % key.replace(\" \", \"_\")\n",
    "    print(\"Processing: %s\" % key)\n",
    "\n",
    "    # 파일 경로에 조인\n",
    "    outpath = os.path.join(resultFolder, outName)\n",
    "\n",
    "    # 변환\n",
    "    values.to_file(outpath)"
   ],
   "metadata": {
    "colab": {
     "base_uri": "https://localhost:8080/"
    },
    "id": "7tM_N6BJP0Q9",
    "outputId": "2304989c-ed6b-49df-d8da-eb0849ff7512"
   },
   "execution_count": 20,
   "outputs": [
    {
     "name": "stdout",
     "output_type": "stream",
     "text": [
      "Processing: Abudefduf concolor\n",
      "Processing: Abudefduf declivifrons\n",
      "Processing: Abudefduf troschelii\n",
      "Processing: Amphiprion sandaracinos\n",
      "Processing: Azurina eupalama\n",
      "Processing: Azurina hirundo\n",
      "Processing: Chromis alpha\n",
      "Processing: Chromis alta\n",
      "Processing: Chromis atrilobata\n",
      "Processing: Chromis crusma\n",
      "Processing: Chromis cyanea\n",
      "Processing: Chromis flavicauda\n",
      "Processing: Chromis intercrusma\n",
      "Processing: Chromis limbaughi\n",
      "Processing: Chromis pembae\n",
      "Processing: Chromis punctipinnis\n",
      "Processing: Chrysiptera flavipinnis\n",
      "Processing: Hypsypops rubicundus\n",
      "Processing: Microspathodon bairdii\n",
      "Processing: Microspathodon dorsalis\n",
      "Processing: Nexilosus latifrons\n",
      "Processing: Stegastes acapulcoensis\n",
      "Processing: Stegastes arcifrons\n",
      "Processing: Stegastes baldwini\n",
      "Processing: Stegastes beebei\n",
      "Processing: Stegastes flavilatus\n",
      "Processing: Stegastes leucorus\n",
      "Processing: Stegastes rectifraenum\n",
      "Processing: Stegastes redemptus\n",
      "Processing: Teixeirichthys jordani\n"
     ]
    }
   ]
  }
 ]
}
